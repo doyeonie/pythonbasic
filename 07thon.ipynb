{
 "cells": [
  {
   "cell_type": "markdown",
   "id": "767338cf-d5a6-49fd-bcbb-13cc2640ae1b",
   "metadata": {},
   "source": [
    "# H1\n",
    "## H2\n",
    "### H3"
   ]
  },
  {
   "cell_type": "code",
   "execution_count": null,
   "id": "264557e4-4dd8-457d-9646-f0a59cadc3fc",
   "metadata": {},
   "outputs": [],
   "source": []
  },
  {
   "cell_type": "raw",
   "id": "675d2887-4150-44dd-9e2b-b49ee87c7e82",
   "metadata": {},
   "source": []
  },
  {
   "cell_type": "markdown",
   "id": "01e3ab5f-8355-46e1-b4f1-7e1bd920c96f",
   "metadata": {},
   "source": [
    "# 1. 마크다운 학습 \n",
    "## 1-1"
   ]
  },
  {
   "cell_type": "markdown",
   "id": "34fb1575-a815-40cc-9e63-c7b513337fb0",
   "metadata": {},
   "source": [
    "일반 텍스트는 그냥 입력하시면 됩니다.  \n",
    "**굵은 글씨**는 이렇게 사용합니다.   \n",
    "*기울인 글씨*는 이렇게 사용합니다.  \n",
    "~~취소선~~은 이렇게 씁니다.  "
   ]
  },
  {
   "cell_type": "markdown",
   "id": "0cf02872-8ec8-4cdc-8c17-e8c7d4983122",
   "metadata": {},
   "source": [
    "> 구획이\n",
    "> 잡힌\n",
    "> 글입니다.\n"
   ]
  },
  {
   "cell_type": "markdown",
   "id": "a1532f94-5f00-4100-8ae8-98639a48e1a6",
   "metadata": {},
   "source": [
    "- 목록1\n",
    "- 목록2\n",
    "- 목록3\n"
   ]
  },
  {
   "cell_type": "markdown",
   "id": "0ded5459-f133-48cd-80a5-1f6faa0dacc2",
   "metadata": {},
   "source": [
    "* 목록1\n",
    "* 목록2\n",
    "* 목록3"
   ]
  },
  {
   "cell_type": "markdown",
   "id": "4377646f-e89b-4bde-a3f2-5022e39348b3",
   "metadata": {},
   "source": [
    "1. 순서가 있는 목록1\n",
    "2. 순서가 있는 목록2\n",
    "3. 순서가 있는 목록3"
   ]
  },
  {
   "cell_type": "markdown",
   "id": "b8ee322d-16b5-4344-9ddb-a1fb8108538b",
   "metadata": {},
   "source": [
    "[google](https://www.google.com)"
   ]
  },
  {
   "cell_type": "raw",
   "id": "a2f6578d-9387-4d6f-b9b6-39072faa3b0f",
   "metadata": {},
   "source": [
    "![진주가 조그맣게 박힌 예쁜 목걸이](http://kint.kr/shopimages/kint/0350010001752.png?1539919223)"
   ]
  },
  {
   "cell_type": "markdown",
   "id": "3e738bf0-1293-4735-8643-d225028cfcf2",
   "metadata": {},
   "source": [
    "|제목 셀|제목 셀|제목 셀|\n",
    "|:--|--:|:--|\n",
    "|값1|값2|값3|"
   ]
  },
  {
   "cell_type": "markdown",
   "id": "8e064f5b-6e00-4012-be1e-a44a15b8e6df",
   "metadata": {},
   "source": [
    "```python\n",
    "x = int(input(\"인사를 몇 번 할까요?\"))\n",
    "\n",
    "for _ in range(x):\n",
    "    print(\"Hello world\")\n",
    "    \n",
    "```"
   ]
  },
  {
   "cell_type": "code",
   "execution_count": 19,
   "id": "723c2201-9ba1-48f5-9810-047b34c1af3c",
   "metadata": {},
   "outputs": [
    {
     "name": "stdout",
     "output_type": "stream",
     "text": [
      "김태형 후보가 총 4표를 얻어 당선되었습니다.\n"
     ]
    }
   ],
   "source": [
    "votes = [2, 5, 3, 4, 1, 5, 1, 5, 5, 3]\n",
    "candidates = [\"\", \"전정국\", \"김남준\", \"박지만\", \"정호석\", \"김태형\"] \n",
    "counts = [0] * len(candidates)\n",
    "\n",
    "for vote in votes:\n",
    "    counts[vote] += 1 \n",
    "\n",
    "i = 1\n",
    "max_count = 0\n",
    "elected_person = 0 #index용\n",
    "\n",
    "# 1, 2, 3, 4, 5\n",
    "while i < len(counts): # len(count) => 6\n",
    "    if max_count < counts[i]: \n",
    "        max_count = counts[i]\n",
    "        elected_person = i\n",
    "    i += 1\n",
    "    \n",
    "print(f\"{candidates[elected_person]} 후보가 총 {max_count}표를 얻어 당선되었습니다.\")\n",
    "\n"
   ]
  },
  {
   "cell_type": "code",
   "execution_count": 21,
   "id": "de87e208-46e7-47cb-bfe0-56b43b5e86db",
   "metadata": {},
   "outputs": [],
   "source": [
    "votes = [2, 5, 3, 4, 1, 5, 1, 5, 5, 3]\n",
    "candidates = [\"\", \"전정국\", \"김남준\", \"박지만\", \"정호석\", \"김태형\"] \n",
    "counts = [0] * len(candidates)\n",
    "\n",
    "for vote in votes:\n",
    "    counts[vote] += 1 \n",
    "    \n",
    "i = 1\n",
    "max_count = 0\n",
    "elected_person = 0 #Index용\n",
    "\n",
    "#1, 2, 3, 4, 5"
   ]
  },
  {
   "cell_type": "code",
   "execution_count": 23,
   "id": "e71b8f01-68df-42c8-8c5a-feb39e56a10d",
   "metadata": {},
   "outputs": [
    {
     "name": "stdout",
     "output_type": "stream",
     "text": [
      "[0, 0, 0, 0, 0, 0]\n",
      "최고 득표: 0\n",
      "index: 0\n",
      "당선자\n"
     ]
    }
   ],
   "source": [
    "print(count)\n",
    "max_count = max(count) #4 \n",
    "elected_person = count.index(max_count) #5 \n",
    "print(\"최고 득표:\", max_count)\n",
    "print(\"index:\", elected_person)\n",
    "print(\"당선자\",)"
   ]
  },
  {
   "cell_type": "code",
   "execution_count": 29,
   "id": "cf48d43d-a16b-4d9b-ba3c-da795209b4e5",
   "metadata": {},
   "outputs": [
    {
     "name": "stdout",
     "output_type": "stream",
     "text": [
      "{'key': 'value', 'key2': 'value2', 'key3': 'value3'}\n"
     ]
    }
   ],
   "source": [
    "dict_a = dict(key = \"value\", key2 = \"value2\", key3 = \"value3\")\n",
    "print(dict_a)\n",
    "\n",
    "# key 인자의 키워드 부분은 따옴표를 사용하지 않음. \n",
    "# print 하면 key와 같이 변수에 쓰이는 것과 같음은 따옴표를 사용할 수 없음"
   ]
  },
  {
   "cell_type": "code",
   "execution_count": 31,
   "id": "2f125c3d-720c-4043-a9d2-01ae1eedfc63",
   "metadata": {},
   "outputs": [
    {
     "data": {
      "text/plain": [
       "{'key': 'value', 'key2': 'value2'}"
      ]
     },
     "execution_count": 31,
     "metadata": {},
     "output_type": "execute_result"
    }
   ],
   "source": [
    "dict([(\"key\", \"value\"), (\"key2\", \"value2\")])\n",
    "\n",
    "# 얘는 따옴표 사용이 가능. 시퀀스를 하나 만듬어줌. "
   ]
  },
  {
   "cell_type": "code",
   "execution_count": 35,
   "id": "9cbc8149-699a-4df8-8aff-fca19ce093ef",
   "metadata": {},
   "outputs": [
    {
     "ename": "NameError",
     "evalue": "name 'dict_b' is not defined",
     "output_type": "error",
     "traceback": [
      "\u001b[1;31m---------------------------------------------------------------------------\u001b[0m",
      "\u001b[1;31mNameError\u001b[0m                                 Traceback (most recent call last)",
      "\u001b[1;32m~\\AppData\\Local\\Temp\\ipykernel_5320\\1976132433.py\u001b[0m in \u001b[0;36m<module>\u001b[1;34m\u001b[0m\n\u001b[1;32m----> 1\u001b[1;33m \u001b[0mprint\u001b[0m\u001b[1;33m(\u001b[0m\u001b[0mdict_b\u001b[0m\u001b[1;33m)\u001b[0m\u001b[1;33m\u001b[0m\u001b[1;33m\u001b[0m\u001b[0m\n\u001b[0m\u001b[0;32m      2\u001b[0m \u001b[0mdict_b\u001b[0m\u001b[1;33m[\u001b[0m\u001b[1;34m\"key\"\u001b[0m\u001b[1;33m]\u001b[0m \u001b[1;33m=\u001b[0m \u001b[1;34m\"super value\"\u001b[0m\u001b[1;33m\u001b[0m\u001b[1;33m\u001b[0m\u001b[0m\n\u001b[0;32m      3\u001b[0m \u001b[0mprint\u001b[0m\u001b[1;33m(\u001b[0m\u001b[0mdict_b\u001b[0m\u001b[1;33m)\u001b[0m\u001b[1;33m\u001b[0m\u001b[1;33m\u001b[0m\u001b[0m\n",
      "\u001b[1;31mNameError\u001b[0m: name 'dict_b' is not defined"
     ]
    }
   ],
   "source": [
    "print(dict_b)\n",
    "dict_b[\"key\"] = \"super value\"\n",
    "print(dict_b)"
   ]
  },
  {
   "cell_type": "code",
   "execution_count": 36,
   "id": "cfbcb10a-fb42-4feb-94db-a0fe985ecb12",
   "metadata": {},
   "outputs": [
    {
     "ename": "NameError",
     "evalue": "name 'dict_b' is not defined",
     "output_type": "error",
     "traceback": [
      "\u001b[1;31m---------------------------------------------------------------------------\u001b[0m",
      "\u001b[1;31mNameError\u001b[0m                                 Traceback (most recent call last)",
      "\u001b[1;32m~\\AppData\\Local\\Temp\\ipykernel_5320\\3337783637.py\u001b[0m in \u001b[0;36m<module>\u001b[1;34m\u001b[0m\n\u001b[1;32m----> 1\u001b[1;33m \u001b[0mprint\u001b[0m\u001b[1;33m(\u001b[0m\u001b[0mdict_b\u001b[0m\u001b[1;33m)\u001b[0m\u001b[1;33m\u001b[0m\u001b[1;33m\u001b[0m\u001b[0m\n\u001b[0m\u001b[0;32m      2\u001b[0m \u001b[0mprint\u001b[0m\u001b[1;33m(\u001b[0m\u001b[1;34m\"key\"\u001b[0m \u001b[1;32min\u001b[0m \u001b[0mdict_b\u001b[0m\u001b[1;33m)\u001b[0m\u001b[1;33m\u001b[0m\u001b[1;33m\u001b[0m\u001b[0m\n",
      "\u001b[1;31mNameError\u001b[0m: name 'dict_b' is not defined"
     ]
    }
   ],
   "source": [
    "print(dict_b)\n",
    "print(\"key\" in dict_b)"
   ]
  },
  {
   "cell_type": "code",
   "execution_count": 38,
   "id": "1a51d13f-5f7d-4303-93d8-8c71cd059090",
   "metadata": {},
   "outputs": [
    {
     "name": "stdout",
     "output_type": "stream",
     "text": [
      "3\n"
     ]
    },
    {
     "ename": "TypeError",
     "evalue": "object of type 'int' has no len()",
     "output_type": "error",
     "traceback": [
      "\u001b[1;31m---------------------------------------------------------------------------\u001b[0m",
      "\u001b[1;31mTypeError\u001b[0m                                 Traceback (most recent call last)",
      "\u001b[1;32m~\\AppData\\Local\\Temp\\ipykernel_5320\\3020559921.py\u001b[0m in \u001b[0;36m<module>\u001b[1;34m\u001b[0m\n\u001b[0;32m      1\u001b[0m \u001b[0mprint\u001b[0m\u001b[1;33m(\u001b[0m\u001b[0mvote\u001b[0m\u001b[1;33m)\u001b[0m\u001b[1;33m\u001b[0m\u001b[1;33m\u001b[0m\u001b[0m\n\u001b[1;32m----> 2\u001b[1;33m \u001b[0mprint\u001b[0m\u001b[1;33m(\u001b[0m\u001b[0mlen\u001b[0m\u001b[1;33m(\u001b[0m\u001b[0mvote\u001b[0m\u001b[1;33m)\u001b[0m\u001b[1;33m)\u001b[0m\u001b[1;33m\u001b[0m\u001b[1;33m\u001b[0m\u001b[0m\n\u001b[0m",
      "\u001b[1;31mTypeError\u001b[0m: object of type 'int' has no len()"
     ]
    }
   ],
   "source": [
    "print(vote)\n",
    "print(len(vote))"
   ]
  },
  {
   "cell_type": "code",
   "execution_count": 42,
   "id": "72188977-fd8c-41a3-b2d7-c8b5df363c4b",
   "metadata": {},
   "outputs": [
    {
     "name": "stdin",
     "output_type": "stream",
     "text": [
      "안녕! 7\n"
     ]
    }
   ],
   "source": [
    "list_b = list(map(int,input(\"안녕!\")))"
   ]
  },
  {
   "cell_type": "code",
   "execution_count": 45,
   "id": "327a459f-ce6b-48f9-872e-214996667120",
   "metadata": {},
   "outputs": [
    {
     "name": "stdout",
     "output_type": "stream",
     "text": [
      "[0, 1, 4, 9, 16, 25, 36, 49, 64, 81]\n"
     ]
    }
   ],
   "source": [
    "list_sample = []\n",
    "for _ in range(10) :\n",
    "    list_sample.append(_ **2)\n",
    "    \n",
    "print(list_sample)"
   ]
  },
  {
   "cell_type": "code",
   "execution_count": null,
   "id": "a9949b54-0d18-43a7-ac5a-cb802b55b743",
   "metadata": {},
   "outputs": [],
   "source": [
    "list_c = [i for i in range(1,10)]\n",
    "for _ in list_c:\n",
    "    list_c.append(_ **4)\n",
    "\n",
    "print(list_c)"
   ]
  },
  {
   "cell_type": "code",
   "execution_count": 64,
   "id": "aaa0ed62-de1e-4819-a8c1-03264b831291",
   "metadata": {},
   "outputs": [
    {
     "name": "stdout",
     "output_type": "stream",
     "text": [
      "1823212864000\n"
     ]
    }
   ],
   "source": [
    "prac_result2 = [i for i in range(1,10)]\n",
    "print(id(prac_result2))"
   ]
  },
  {
   "cell_type": "code",
   "execution_count": 10,
   "id": "74ad3a95-180c-4eca-bfa4-e86f649c34d1",
   "metadata": {},
   "outputs": [
    {
     "name": "stdout",
     "output_type": "stream",
     "text": [
      "['a', 'b', 'c', 'd', 'e', 'f', 'g', 'h', 'i', 'j', 'k', 'l', 'm', 'n', 'o', 'p', 'q', 'r', 's', 't', 'u', 'v', 'w', 'x', 'y', 'z']\n"
     ]
    }
   ],
   "source": [
    "prac_result3 = [i for i in 'abcdefghijklmnopqrstuvwxyz']\n",
    "\n",
    "print(prac_result3)"
   ]
  },
  {
   "cell_type": "code",
   "execution_count": 23,
   "id": "eccb8c78-0cf4-4ef0-af56-6e3f56fc1a4c",
   "metadata": {},
   "outputs": [
    {
     "name": "stdout",
     "output_type": "stream",
     "text": [
      "['2', '3', '4', '5', '6', '7', '8', '9', '10', 'J', 'Q', 'K', 'A']\n"
     ]
    }
   ],
   "source": [
    "prac_result4 = [str(i) for i in range(2,11)]+[i for i in 'JQKA']\n",
    "print(prac_result4)"
   ]
  },
  {
   "cell_type": "code",
   "execution_count": 28,
   "id": "d1d2b8d5-44b3-427b-a1e0-5adb7c30db3b",
   "metadata": {},
   "outputs": [
    {
     "name": "stdout",
     "output_type": "stream",
     "text": [
      "[['2', '3', '4', '5', '6', '7', '8', '9', '10', 'J', 'Q', 'K', 'A'], ['2', '3', '4', '5', '6', '7', '8', '9', '10', 'J', 'Q', 'K', 'A'], ['2', '3', '4', '5', '6', '7', '8', '9', '10', 'J', 'Q', 'K', 'A'], ['2', '3', '4', '5', '6', '7', '8', '9', '10', 'J', 'Q', 'K', 'A']]\n"
     ]
    }
   ],
   "source": [
    "prac_result5 = [prac_result4 for i in range(4)]\n",
    "print(prac_result5)"
   ]
  },
  {
   "cell_type": "code",
   "execution_count": 29,
   "id": "0aac05e7-10e3-47b4-a67a-90c2b1454f4d",
   "metadata": {},
   "outputs": [
    {
     "name": "stdout",
     "output_type": "stream",
     "text": [
      "['two', '3', '4', '5', '6', '7', '8', '9', '10', 'J', 'Q', 'K', 'A']\n"
     ]
    }
   ],
   "source": [
    "prac_result4[0] = 'two'\n",
    "print(prac_result4)"
   ]
  },
  {
   "cell_type": "code",
   "execution_count": 30,
   "id": "2a514eff-b970-40e6-a33c-296f37be7669",
   "metadata": {},
   "outputs": [
    {
     "name": "stdout",
     "output_type": "stream",
     "text": [
      "[['two', '3', '4', '5', '6', '7', '8', '9', '10', 'J', 'Q', 'K', 'A'], ['two', '3', '4', '5', '6', '7', '8', '9', '10', 'J', 'Q', 'K', 'A'], ['two', '3', '4', '5', '6', '7', '8', '9', '10', 'J', 'Q', 'K', 'A'], ['two', '3', '4', '5', '6', '7', '8', '9', '10', 'J', 'Q', 'K', 'A']]\n"
     ]
    }
   ],
   "source": [
    "prac_result5 = [prac_result4 for i in range(4)]\n",
    "print(prac_result5)"
   ]
  },
  {
   "cell_type": "code",
   "execution_count": 31,
   "id": "e4a79f16-998e-402a-84c6-204e9bdaaee7",
   "metadata": {},
   "outputs": [
    {
     "name": "stdout",
     "output_type": "stream",
     "text": [
      "prac_result4의 id: 1823196158976\n",
      "prac_result5[0] : 1823196158976\n",
      "prac_result5[1] : 1823196158976\n",
      "prac_result5[2] : 1823196158976\n",
      "prac_result5[3] : 1823196158976\n"
     ]
    }
   ],
   "source": [
    "print(\"prac_result4의 id:\", id(prac_result4))\n",
    "\n",
    "for i, v in enumerate(prac_result5):\n",
    "    print(\"prac_result5[\", i, \"] : \", id(v), sep=\"\")"
   ]
  },
  {
   "cell_type": "code",
   "execution_count": 34,
   "id": "0934bb95-5fef-474d-b906-005845f776a1",
   "metadata": {},
   "outputs": [
    {
     "name": "stdout",
     "output_type": "stream",
     "text": [
      "prac_result4의 id: 1823196158976\n",
      "prac_result6[0] : 1823212224064\n",
      "prac_result6[1] : 1823212843584\n",
      "prac_result6[2] : 1823212833856\n",
      "prac_result6[3] : 1823212796608\n"
     ]
    }
   ],
   "source": [
    "prac_result6 = [prac_result4[:] for _ in range(4)] # : 슬라이싱은 메모리 값에서 단순히 복사만 하는게 아니라 새로운 주소를 받는거다.\n",
    "\n",
    "\n",
    "print(\"prac_result4의 id:\", id(prac_result4))\n",
    "for i, v in enumerate(prac_result6):\n",
    "    print(\"prac_result6[\", i, \"] : \", id(v), sep=\"\")"
   ]
  },
  {
   "cell_type": "code",
   "execution_count": 44,
   "id": "c0795b55-ebf6-4bcf-b028-ce29aa214f8f",
   "metadata": {},
   "outputs": [
    {
     "name": "stdout",
     "output_type": "stream",
     "text": [
      "1823212812864\n",
      "1823212837952\n",
      "False\n",
      "True\n"
     ]
    }
   ],
   "source": [
    "# [1, 2, 3, 4, 5, 6, 7, 8, 9]\n",
    "# 변수라는 것은 메모리 주소를 가질 수 있는데 값을 가질수도 있고 주소를 가질 수 있다. \n",
    "# 어차피 우리가 다르는 것은 비트로 표현이 되니 모두 숫자라고 볼 수 있다.\n",
    "old_list = list(range(10))\n",
    "new_list = old_list[:]\n",
    "\n",
    "print(id(old_list))\n",
    "print(id(new_list))\n",
    "print(old_list is new_list)\n",
    "# 메모리 주소도 똑같애야 돼. 더 깐깐함. \n",
    "print(old_list == new_list)\n",
    "# 값만 똑같으면 돼"
   ]
  },
  {
   "cell_type": "code",
   "execution_count": 40,
   "id": "2b062e15-2e52-47f5-9a73-6ee3d4c73332",
   "metadata": {},
   "outputs": [
    {
     "name": "stdout",
     "output_type": "stream",
     "text": [
      "[1, 2, 3, 4, 5, 6, 7, 8, 9, 10, 11, 12, 13, 14, 15, 16, 17, 18, 19, 20, 21, 22, 23, 24, 25, 26, 27, 28, 29, 30, 31, 32, 33, 34, 35, 36, 37, 38, 39, 40, 41, 42, 43, 44, 45]\n"
     ]
    }
   ],
   "source": [
    "list_sample2 = [i for i in range(1, 46)]\n",
    "print(list_sample2)"
   ]
  },
  {
   "cell_type": "code",
   "execution_count": 41,
   "id": "f5530153-41c8-4eff-9cf6-683cace84670",
   "metadata": {},
   "outputs": [
    {
     "name": "stdout",
     "output_type": "stream",
     "text": [
      "[1, 2, 3, 4, 5, 6, 7, 8, 9, 10, 11, 12, 13, 14, 15, 16, 17, 18, 19, 20, 21, 22, 23, 24, 25, 26, 27, 28, 29, 30, 31, 32, 33, 34, 35, 36, 37, 38, 39, 40, 41, 42, 43, 44, 45]\n"
     ]
    }
   ],
   "source": [
    "# range(시작, 끝, 증감)\n",
    "# 시퀀스자료형변수[시작:끝:증감]\n",
    "# 시작 생략 = 시작부터 끝 생략 = 마지막까지 증감 += 1 \n",
    "\n",
    "print(list_sample2[:])"
   ]
  },
  {
   "cell_type": "code",
   "execution_count": 43,
   "id": "2e9250df-6828-4502-aff7-3a1b9a8606fc",
   "metadata": {},
   "outputs": [
    {
     "name": "stdout",
     "output_type": "stream",
     "text": [
      "1823212799664\n",
      "1823212799664\n"
     ]
    }
   ],
   "source": [
    "str_sample = \"This is str.\"\n",
    "str2 = str_sample[:]\n",
    "\n",
    "# 문자열이나 튜플은 슬라이싱이 안된다 \n",
    "# 리스트(가변되는 것) 는 복사를 하게끔 파이썬 안에서 되어있다. \n",
    "# 리스트는 얇은 복사만 된다. 딥하게 되는게 있다. 나중에...! \n",
    "\n",
    "\n",
    "print(id(str_sample))\n",
    "print(id(str2))"
   ]
  },
  {
   "cell_type": "code",
   "execution_count": 45,
   "id": "1c8d81dc-2f6f-4097-af5e-33b0ad841e33",
   "metadata": {},
   "outputs": [
    {
     "name": "stdout",
     "output_type": "stream",
     "text": [
      "1823193030064\n",
      "1823193030064\n"
     ]
    }
   ],
   "source": [
    "#  (1,2 ,3, 4, 5, 6, 7, 8, 9, 10)\n",
    "\n",
    "old_tuple = tuple(range(10))\n",
    "new_tuple = old "
   ]
  },
  {
   "cell_type": "code",
   "execution_count": 46,
   "id": "f1651883-0052-4699-b6ab-50106b2442a0",
   "metadata": {},
   "outputs": [
    {
     "name": "stdout",
     "output_type": "stream",
     "text": [
      "1823193030064\n",
      "1823193030064\n"
     ]
    }
   ],
   "source": [
    "str_a = \"hello\"\n",
    "str_b = \"hello\"\n",
    "\n",
    "print(id(str_a))\n",
    "print(id(str_b))"
   ]
  },
  {
   "cell_type": "code",
   "execution_count": 47,
   "id": "da120e4b-ff4d-4f56-89da-b5fbbf5ee210",
   "metadata": {},
   "outputs": [
    {
     "name": "stdout",
     "output_type": "stream",
     "text": [
      "2.0087392330169678\n"
     ]
    }
   ],
   "source": [
    "import time\n",
    "\n",
    "curr = time.time()\n",
    "\n",
    "for _ in range(100000):\n",
    "    [i for i in range(1000)]\n",
    "    \n",
    "last = time.time()\n",
    "print(last -curr)"
   ]
  },
  {
   "cell_type": "code",
   "execution_count": 48,
   "id": "90995367-c626-4a28-b21b-937772f5c5f9",
   "metadata": {},
   "outputs": [
    {
     "name": "stdout",
     "output_type": "stream",
     "text": [
      "[0, 1, 2, 3, 4, 5, 6, 7, 8, 9]\n"
     ]
    }
   ],
   "source": [
    "list_e = [i for i in range(10)]\n",
    "print(list_e)"
   ]
  },
  {
   "cell_type": "code",
   "execution_count": 49,
   "id": "3daf2c5a-7bd2-4331-91e0-28a7b1aa89ac",
   "metadata": {},
   "outputs": [],
   "source": [
    "list_f = list_e"
   ]
  },
  {
   "cell_type": "code",
   "execution_count": 50,
   "id": "aad998f6-52e9-4d7a-a5d6-bfc3e4c69ad0",
   "metadata": {},
   "outputs": [
    {
     "name": "stdout",
     "output_type": "stream",
     "text": [
      "[0, 1, 2, 3, 4, 5, 6, 7, 8, 9]\n"
     ]
    }
   ],
   "source": [
    "print(list_f)"
   ]
  },
  {
   "cell_type": "code",
   "execution_count": 63,
   "id": "c09abb9e-6c4c-41f7-a81e-05a62e54bcf5",
   "metadata": {},
   "outputs": [
    {
     "name": "stdout",
     "output_type": "stream",
     "text": [
      "1823212865088\n"
     ]
    }
   ],
   "source": [
    "g = list(range(1,10))\n",
    "print(id(g))"
   ]
  },
  {
   "cell_type": "code",
   "execution_count": null,
   "id": "17c7aa71-6a04-4f5d-bb38-ac3990c6c70e",
   "metadata": {},
   "outputs": [],
   "source": []
  }
 ],
 "metadata": {
  "kernelspec": {
   "display_name": "Python 3 (ipykernel)",
   "language": "python",
   "name": "python3"
  },
  "language_info": {
   "codemirror_mode": {
    "name": "ipython",
    "version": 3
   },
   "file_extension": ".py",
   "mimetype": "text/x-python",
   "name": "python",
   "nbconvert_exporter": "python",
   "pygments_lexer": "ipython3",
   "version": "3.9.13"
  }
 },
 "nbformat": 4,
 "nbformat_minor": 5
}
