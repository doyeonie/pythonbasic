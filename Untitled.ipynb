{
 "cells": [
  {
   "cell_type": "markdown",
   "id": "767338cf-d5a6-49fd-bcbb-13cc2640ae1b",
   "metadata": {},
   "source": [
    "# H1\n",
    "## H2\n",
    "### H3"
   ]
  },
  {
   "cell_type": "code",
   "execution_count": null,
   "id": "264557e4-4dd8-457d-9646-f0a59cadc3fc",
   "metadata": {},
   "outputs": [],
   "source": []
  },
  {
   "cell_type": "raw",
   "id": "675d2887-4150-44dd-9e2b-b49ee87c7e82",
   "metadata": {},
   "source": []
  },
  {
   "cell_type": "markdown",
   "id": "01e3ab5f-8355-46e1-b4f1-7e1bd920c96f",
   "metadata": {},
   "source": [
    "# 1. 마크다운 학습 \n",
    "## 1-1"
   ]
  },
  {
   "cell_type": "markdown",
   "id": "34fb1575-a815-40cc-9e63-c7b513337fb0",
   "metadata": {},
   "source": [
    "일반 텍스트는 그냥 입력하시면 됩니다.  \n",
    "**굵은 글씨**는 이렇게 사용합니다.   \n",
    "*기울인 글씨*는 이렇게 사용합니다.  \n",
    "~~취소선~~은 이렇게 씁니다.  "
   ]
  },
  {
   "cell_type": "markdown",
   "id": "0cf02872-8ec8-4cdc-8c17-e8c7d4983122",
   "metadata": {},
   "source": [
    "> 구획이\n",
    "> 잡힌\n",
    "> 글입니다.\n"
   ]
  },
  {
   "cell_type": "markdown",
   "id": "a1532f94-5f00-4100-8ae8-98639a48e1a6",
   "metadata": {},
   "source": [
    "- 목록1\n",
    "- 목록2\n",
    "- 목록3\n"
   ]
  },
  {
   "cell_type": "markdown",
   "id": "0ded5459-f133-48cd-80a5-1f6faa0dacc2",
   "metadata": {},
   "source": [
    "* 목록1\n",
    "* 목록2\n",
    "* 목록3"
   ]
  },
  {
   "cell_type": "markdown",
   "id": "4377646f-e89b-4bde-a3f2-5022e39348b3",
   "metadata": {},
   "source": [
    "1. 순서가 있는 목록1\n",
    "2. 순서가 있는 목록2\n",
    "3. 순서가 있는 목록3"
   ]
  },
  {
   "cell_type": "markdown",
   "id": "b8ee322d-16b5-4344-9ddb-a1fb8108538b",
   "metadata": {},
   "source": [
    "[google](https://www.google.com)"
   ]
  },
  {
   "cell_type": "markdown",
   "id": "bc070d3e-bd77-44b0-91bf-1d98bbee618f",
   "metadata": {},
   "source": [
    "![진주가 조그맣게 박힌 예쁜 목걸이](http://kint.kr/shopimages/kint/0350010001752.png?1539919223)"
   ]
  },
  {
   "cell_type": "markdown",
   "id": "3e738bf0-1293-4735-8643-d225028cfcf2",
   "metadata": {},
   "source": [
    "|제목 셀|제목 셀|제목 셀|\n",
    "|:--|--:|:--|\n",
    "|값1|값2|값3|"
   ]
  },
  {
   "cell_type": "markdown",
   "id": "8e064f5b-6e00-4012-be1e-a44a15b8e6df",
   "metadata": {},
   "source": [
    "```python\n",
    "x = int(input(\"인사를 몇 번 할까요?\"))\n",
    "\n",
    "for _ in range(x):\n",
    "    print(\"Hello world\")\n",
    "    \n",
    "```"
   ]
  },
  {
   "cell_type": "code",
   "execution_count": null,
   "id": "723c2201-9ba1-48f5-9810-047b34c1af3c",
   "metadata": {},
   "outputs": [],
   "source": []
  }
 ],
 "metadata": {
  "kernelspec": {
   "display_name": "Python 3 (ipykernel)",
   "language": "python",
   "name": "python3"
  },
  "language_info": {
   "codemirror_mode": {
    "name": "ipython",
    "version": 3
   },
   "file_extension": ".py",
   "mimetype": "text/x-python",
   "name": "python",
   "nbconvert_exporter": "python",
   "pygments_lexer": "ipython3",
   "version": "3.9.13"
  }
 },
 "nbformat": 4,
 "nbformat_minor": 5
}
