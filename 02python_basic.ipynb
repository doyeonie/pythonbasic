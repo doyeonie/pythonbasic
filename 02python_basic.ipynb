{
 "cells": [
  {
   "cell_type": "code",
   "execution_count": 1,
   "id": "608669e2-9747-4955-adf6-6e9fc9e328b2",
   "metadata": {
    "tags": []
   },
   "outputs": [],
   "source": [
    "# 주석 사용하기\n",
    "x = 1 # 여기서 =(등호) 기호는 수학의 같다는 의미와는 다르다.\n",
    "      # ... 우측 변의 리터럴을 좌측 변의 변수에 대임한다는 의미다. \n",
    "    \n",
    "text = \"# 이것은 주석이 아닙니다. 따옴표 안은 문자열 리터럴입니다.\""
   ]
  },
  {
   "cell_type": "code",
   "execution_count": 2,
   "id": "b60bb58b-4865-422c-a6fb-7e3d92ae25e6",
   "metadata": {},
   "outputs": [
    {
     "name": "stdout",
     "output_type": "stream",
     "text": [
      "1\n"
     ]
    }
   ],
   "source": [
    "print(x)"
   ]
  },
  {
   "cell_type": "code",
   "execution_count": 6,
   "id": "39d8651c-b917-42a7-ab26-ee96932e548b",
   "metadata": {},
   "outputs": [
    {
     "name": "stdout",
     "output_type": "stream",
     "text": [
      "Hello, world!\n",
      "Hello, world!\n",
      "Python Programming\n"
     ]
    }
   ],
   "source": [
    "print(\"Hello, world!\")\n",
    "print(\"Hello, world!\")\n",
    "print(\"Python Programming\")"
   ]
  },
  {
   "cell_type": "code",
   "execution_count": 18,
   "id": "6820a363-8cf4-41ef-9307-ee5fe470f4d3",
   "metadata": {},
   "outputs": [
    {
     "data": {
      "text/plain": [
       "89"
      ]
     },
     "execution_count": 18,
     "metadata": {},
     "output_type": "execute_result"
    }
   ],
   "source": [
    "13 + (22 - 3) * 4"
   ]
  },
  {
   "cell_type": "code",
   "execution_count": 10,
   "id": "a0894d70-8040-4c7d-837d-2cbd970c84c1",
   "metadata": {},
   "outputs": [
    {
     "data": {
      "text/plain": [
       "3"
      ]
     },
     "execution_count": 10,
     "metadata": {},
     "output_type": "execute_result"
    }
   ],
   "source": [
    "int(3.3)"
   ]
  },
  {
   "cell_type": "code",
   "execution_count": 11,
   "id": "359b7929-a54e-43cf-908a-9e0f8b0c46c4",
   "metadata": {},
   "outputs": [
    {
     "data": {
      "text/plain": [
       "2"
      ]
     },
     "execution_count": 11,
     "metadata": {},
     "output_type": "execute_result"
    }
   ],
   "source": [
    "int(5 / 2)"
   ]
  },
  {
   "cell_type": "code",
   "execution_count": 12,
   "id": "d8224e60-3e33-4350-b388-336f31542c1f",
   "metadata": {},
   "outputs": [
    {
     "data": {
      "text/plain": [
       "104"
      ]
     },
     "execution_count": 12,
     "metadata": {},
     "output_type": "execute_result"
    }
   ],
   "source": [
    "int('104')"
   ]
  },
  {
   "cell_type": "code",
   "execution_count": 14,
   "id": "2a0aa276-cc97-4814-865a-59164c63dbbd",
   "metadata": {},
   "outputs": [
    {
     "data": {
      "text/plain": [
       "3.0"
      ]
     },
     "execution_count": 14,
     "metadata": {},
     "output_type": "execute_result"
    }
   ],
   "source": [
    "float(3)"
   ]
  },
  {
   "cell_type": "code",
   "execution_count": 19,
   "id": "feb1cee1-4824-4fbf-a844-e1342da09684",
   "metadata": {},
   "outputs": [
    {
     "name": "stdout",
     "output_type": "stream",
     "text": [
      "7\n"
     ]
    }
   ],
   "source": [
    "print(int((0.2467*12)+4.159))"
   ]
  },
  {
   "cell_type": "code",
   "execution_count": 22,
   "id": "c371536f-7a29-4b3e-9812-060768e0d3df",
   "metadata": {},
   "outputs": [
    {
     "name": "stdout",
     "output_type": "stream",
     "text": [
      "가장 시끄러운 층은 = 7 층\n"
     ]
    }
   ],
   "source": [
    "print(\"가장\", \"시끄러운\", \"층은\", \"=\", int((0.2467*12)+4.159), \"층\")"
   ]
  },
  {
   "cell_type": "code",
   "execution_count": 36,
   "id": "fb9703a7-c632-4b4d-ac69-23a370d1cd33",
   "metadata": {},
   "outputs": [
    {
     "name": "stdout",
     "output_type": "stream",
     "text": [
      "453.0\n"
     ]
    }
   ],
   "source": [
    "AP = 380\n",
    "print(AP * 0.6 + 225)"
   ]
  },
  {
   "cell_type": "code",
   "execution_count": 37,
   "id": "717ea208-9ad2-4238-9fc1-1d9b40146e3a",
   "metadata": {},
   "outputs": [
    {
     "name": "stdout",
     "output_type": "stream",
     "text": [
      "30\n"
     ]
    }
   ],
   "source": [
    "# a 변수 선언 후 숫자 리터럴 10 값을 할당\n",
    "a = 10\n",
    "\n",
    "# a 변수 값에 20을 더한 결과를 다시 a에 할당 \n",
    "a = a + 20\n",
    "\n",
    "print(a)"
   ]
  },
  {
   "cell_type": "code",
   "execution_count": 38,
   "id": "eedac381-cc14-4454-80d2-ce068ae8b1d8",
   "metadata": {},
   "outputs": [
    {
     "ename": "NameError",
     "evalue": "name 'a' is not defined",
     "output_type": "error",
     "traceback": [
      "\u001b[1;31m---------------------------------------------------------------------------\u001b[0m",
      "\u001b[1;31mNameError\u001b[0m                                 Traceback (most recent call last)",
      "\u001b[1;32m~\\AppData\\Local\\Temp\\ipykernel_4680\\2757854995.py\u001b[0m in \u001b[0;36m<module>\u001b[1;34m\u001b[0m\n\u001b[0;32m      1\u001b[0m \u001b[1;31m# a 변수 삭제 후 a 변수를 출력해보기\u001b[0m\u001b[1;33m\u001b[0m\u001b[1;33m\u001b[0m\u001b[0m\n\u001b[0;32m      2\u001b[0m \u001b[1;32mdel\u001b[0m \u001b[0ma\u001b[0m\u001b[1;33m\u001b[0m\u001b[1;33m\u001b[0m\u001b[0m\n\u001b[1;32m----> 3\u001b[1;33m \u001b[0mprint\u001b[0m\u001b[1;33m(\u001b[0m\u001b[0ma\u001b[0m\u001b[1;33m)\u001b[0m\u001b[1;33m\u001b[0m\u001b[1;33m\u001b[0m\u001b[0m\n\u001b[0m",
      "\u001b[1;31mNameError\u001b[0m: name 'a' is not defined"
     ]
    }
   ],
   "source": [
    "# a 변수 삭제 후 a 변수를 출력해보기 \n",
    "del a\n",
    "print(a)"
   ]
  },
  {
   "cell_type": "code",
   "execution_count": 39,
   "id": "0015cd07-d7cf-4526-984c-6402e99586da",
   "metadata": {},
   "outputs": [
    {
     "name": "stdout",
     "output_type": "stream",
     "text": [
      "30\n"
     ]
    }
   ],
   "source": [
    "# a 변수 선언 후 숫자 리터ㅓ럴 10 값을 할당\n",
    "a = 10\n",
    "\n",
    "# a 변수 값에 20을 더한 결과를 다시 a에 할당 \n",
    "a = a + 20\n",
    "\n",
    "print(a)"
   ]
  },
  {
   "cell_type": "code",
   "execution_count": 42,
   "id": "3a27841d-b222-40f2-a70c-966062d9f08e",
   "metadata": {},
   "outputs": [
    {
     "name": "stdout",
     "output_type": "stream",
     "text": [
      "10\n",
      "20\n"
     ]
    }
   ],
   "source": [
    "a = 10\n",
    "\n",
    "# 변수 a에 20 값을 더하고 할당하지 않았을 때\n",
    "a + 20\n",
    "print(a) # 10\n",
    "\n",
    "a += 10 # a = a + 10  과 같다\n",
    "print(a)"
   ]
  },
  {
   "cell_type": "code",
   "execution_count": 43,
   "id": "2e2b7f0e-8b8b-429e-918a-567615d30142",
   "metadata": {},
   "outputs": [
    {
     "name": "stdout",
     "output_type": "stream",
     "text": [
      "None\n"
     ]
    }
   ],
   "source": [
    "a = None\n",
    "print(a)"
   ]
  },
  {
   "cell_type": "code",
   "execution_count": 44,
   "id": "5bc5dd59-9722-445a-9e95-ef714c734f2d",
   "metadata": {},
   "outputs": [
    {
     "data": {
      "text/plain": [
       "bool"
      ]
     },
     "execution_count": 44,
     "metadata": {},
     "output_type": "execute_result"
    }
   ],
   "source": [
    "type(True)"
   ]
  },
  {
   "cell_type": "code",
   "execution_count": 45,
   "id": "938bc039-6b0b-429c-9e3d-733bda11fc84",
   "metadata": {},
   "outputs": [
    {
     "name": "stdout",
     "output_type": "stream",
     "text": [
      "참입니다.\n"
     ]
    }
   ],
   "source": [
    "true = \"참입니다.\"\n",
    "print(true)"
   ]
  },
  {
   "cell_type": "code",
   "execution_count": 46,
   "id": "cf207c1d-abef-48e3-8676-edf7b90ed323",
   "metadata": {},
   "outputs": [
    {
     "name": "stdout",
     "output_type": "stream",
     "text": [
      "30\n"
     ]
    }
   ],
   "source": [
    "# a 변수 선언 후 숫자 리터럴 10 값을 할당\n",
    "a = 10\n",
    "\n",
    "# a 변수 값에 20을 더한 결과를 다시 a에 할당 \n",
    "a = a + 20\n",
    "\n",
    "print(a)"
   ]
  },
  {
   "cell_type": "code",
   "execution_count": 48,
   "id": "bcd45886-cf95-4be4-b5d4-ecba38b38952",
   "metadata": {},
   "outputs": [
    {
     "name": "stdout",
     "output_type": "stream",
     "text": [
      "이것은 문자열입니다.\n",
      "<class 'str'>\n",
      "이것은 문자열입니다.\n",
      "<class 'str'>\n"
     ]
    }
   ],
   "source": [
    "text = '이것은 문자열입니다.'\n",
    "text2 = \"이것은 문자열입니다.\"\n",
    "\n",
    "print(text)\n",
    "print(type(text))\n",
    "\n",
    "print(text2)\n",
    "print(type(text2))"
   ]
  },
  {
   "cell_type": "code",
   "execution_count": 49,
   "id": "60244615-d3ce-42ec-9cca-4d1afb9ec545",
   "metadata": {},
   "outputs": [
    {
     "name": "stdout",
     "output_type": "stream",
     "text": [
      "don't do that\n"
     ]
    }
   ],
   "source": [
    "text3 = 'don\\'t do that'\n",
    "print(text3)"
   ]
  },
  {
   "cell_type": "code",
   "execution_count": 55,
   "id": "008a446d-180b-4627-9223-fc96640d6b37",
   "metadata": {},
   "outputs": [
    {
     "name": "stdout",
     "output_type": "stream",
     "text": [
      "\"안녕?\"이라는 그 인사를 듣고 나는 '누구지?'라고 생각했다.\n"
     ]
    }
   ],
   "source": [
    "text = \"\\\"안녕?\\\"이라는 그 인사를 듣고 나는 \\'누구지?\\'라고 생각했다.\"\n",
    "print(text)"
   ]
  },
  {
   "cell_type": "code",
   "execution_count": 56,
   "id": "89e72124-d86b-4b4f-9170-7146e97ac4ca",
   "metadata": {},
   "outputs": [
    {
     "name": "stdout",
     "output_type": "stream",
     "text": [
      "First line.\n",
      "Second line.\n"
     ]
    }
   ],
   "source": [
    "# \\n 는 줄바꿈을 의미합니다.\n",
    "s = 'First line.\\nSecond line.'\n",
    "print(s)"
   ]
  },
  {
   "cell_type": "code",
   "execution_count": 61,
   "id": "cc6f1613-a29d-415c-a491-778d489bdb13",
   "metadata": {},
   "outputs": [
    {
     "name": "stdout",
     "output_type": "stream",
     "text": [
      "c:\\name\n",
      "c:\\name\n"
     ]
    }
   ],
   "source": [
    "# 상황상 줄바꿈을 안하고 싶을떄\n",
    "s1 = r'c:\\name'\n",
    "s2 = 'c:\\\\name'\n",
    "print(s1)\n",
    "print(s2)"
   ]
  },
  {
   "cell_type": "code",
   "execution_count": 63,
   "id": "a3aba116-4310-44eb-9969-e6dfaec4842f",
   "metadata": {},
   "outputs": [
    {
     "name": "stdout",
     "output_type": "stream",
     "text": [
      "\n",
      "안녕하세요.\n",
      "나는 파이썬을 공부하고 있습니다.\n",
      "반갑습니다. \n",
      "\n"
     ]
    }
   ],
   "source": [
    "# 삼중 따옴표를 사용하면 여러 줄로 확장하여 문자열 리터럴을 만들 수 있음.\n",
    "s3 = \"\"\"\n",
    "안녕하세요.\n",
    "나는 파이썬을 공부하고 있습니다.\n",
    "반갑습니다. \n",
    "\"\"\"\n",
    "\n",
    "print(s3)"
   ]
  },
  {
   "cell_type": "code",
   "execution_count": 67,
   "id": "07892760-13a5-4063-809e-0297cc4e517f",
   "metadata": {},
   "outputs": [
    {
     "name": "stdout",
     "output_type": "stream",
     "text": [
      "안녕하세요.\n",
      "나는 파이썬을 공부하고 있습니다.\n",
      "반갑습니다. \n",
      "\n"
     ]
    }
   ],
   "source": [
    "# 삼중 따옴표를 사용하면 여러 줄로 확장하여 문자열 리터럴을 만들 수 있는데 줄바꿈없이 사용하고 싶을떄 역슬래시를 쓴다.\n",
    "s3 = \"\"\"\\\n",
    "안녕하세요.\n",
    "나는 파이썬을 공부하고 있습니다.\n",
    "반갑습니다. \n",
    "\"\"\"\n",
    "print(s3)"
   ]
  },
  {
   "cell_type": "code",
   "execution_count": 76,
   "id": "39528b16-bf00-47ff-8fed-308a11ff739c",
   "metadata": {},
   "outputs": [
    {
     "name": "stdout",
     "output_type": "stream",
     "text": [
      "안녕하세요.\n",
      "나는 파이썬을 공부하고 있습니다.\n",
      "반갑습니다.\n"
     ]
    }
   ],
   "source": [
    "s = \"\"\"\\\n",
    "안녕하세요.\n",
    "나는 파이썬을 공부하고 있습니다.\n",
    "반갑습니다.\\\n",
    "\"\"\"\n",
    "print(s)"
   ]
  },
  {
   "cell_type": "code",
   "execution_count": 79,
   "id": "98ea0d4e-fd4c-4c8f-b7b9-3d32c564caca",
   "metadata": {},
   "outputs": [
    {
     "name": "stdout",
     "output_type": "stream",
     "text": [
      "\"안녕하세요.\"\n",
      "나는 파이썬을 공부하고 있습니다.\n",
      "반갑습니다.\n"
     ]
    }
   ],
   "source": [
    "s = \"\"\"\\\n",
    "\"안녕하세요.\"\n",
    "나는 파이썬을 공부하고 있습니다.\n",
    "반갑습니다.\\\n",
    "\"\"\"\n",
    "print(s)"
   ]
  },
  {
   "cell_type": "code",
   "execution_count": 87,
   "id": "c27c4889-ce3d-41b9-a0a3-8d49637239b1",
   "metadata": {},
   "outputs": [
    {
     "name": "stdout",
     "output_type": "stream",
     "text": [
      "너무 너무 너무 너무 너무 너무 너무 너무 너무 너무 너무 너무 너무 너무 너무 너무 너무 너무 너무 너무 너무 너무 너무 너무 너무 너무 너무 너무 너무 너무 너무 너무 너무 너무 너무 너무 너무 너무 너무 너무 너무 너무 너무 너무 너무 너무 너무 너무 너무 너무 너무 너무 너무 너무 너무 너무 너무 너무 너무 너무 너무 너무 너무 너무 너무 너무 너무 너무 너무 너무 너무 너무 너무 너무 너무 너무 너무 너무 너무 너무 너무 너무 너무 너무 너무 너무 너무 너무 너무 너무 너무 너무 너무 너무 너무 너무 너무 너무 너무 너무 파이썬 공부가 즐겁습니다.\n"
     ]
    }
   ],
   "source": [
    "s = \"너무 \" * 100 + \"파이썬 공부가 즐겁습니다.\"\n",
    "\n",
    "print(s)"
   ]
  },
  {
   "cell_type": "code",
   "execution_count": 93,
   "id": "8076d4e0-a458-4761-8860-85f9a25da25d",
   "metadata": {},
   "outputs": [
    {
     "name": "stdout",
     "output_type": "stream",
     "text": [
      "P\n",
      "n\n"
     ]
    },
    {
     "ename": "IndexError",
     "evalue": "string index out of range",
     "output_type": "error",
     "traceback": [
      "\u001b[1;31m---------------------------------------------------------------------------\u001b[0m",
      "\u001b[1;31mIndexError\u001b[0m                                Traceback (most recent call last)",
      "\u001b[1;32m~\\AppData\\Local\\Temp\\ipykernel_4680\\3397552159.py\u001b[0m in \u001b[0;36m<module>\u001b[1;34m\u001b[0m\n\u001b[0;32m      3\u001b[0m \u001b[0mprint\u001b[0m\u001b[1;33m(\u001b[0m\u001b[0mword\u001b[0m\u001b[1;33m[\u001b[0m\u001b[1;36m0\u001b[0m\u001b[1;33m]\u001b[0m\u001b[1;33m)\u001b[0m\u001b[1;33m\u001b[0m\u001b[1;33m\u001b[0m\u001b[0m\n\u001b[0;32m      4\u001b[0m \u001b[0mprint\u001b[0m\u001b[1;33m(\u001b[0m\u001b[0mword\u001b[0m\u001b[1;33m[\u001b[0m\u001b[1;36m5\u001b[0m\u001b[1;33m]\u001b[0m\u001b[1;33m)\u001b[0m\u001b[1;33m\u001b[0m\u001b[1;33m\u001b[0m\u001b[0m\n\u001b[1;32m----> 5\u001b[1;33m \u001b[0mprint\u001b[0m\u001b[1;33m(\u001b[0m\u001b[0mword\u001b[0m\u001b[1;33m[\u001b[0m\u001b[1;36m11\u001b[0m\u001b[1;33m]\u001b[0m\u001b[1;33m)\u001b[0m\u001b[1;33m\u001b[0m\u001b[1;33m\u001b[0m\u001b[0m\n\u001b[0m\u001b[0;32m      6\u001b[0m \u001b[1;33m\u001b[0m\u001b[0m\n\u001b[0;32m      7\u001b[0m \u001b[1;31m# 음수는 뒤에서부터 셉니다.\u001b[0m\u001b[1;33m\u001b[0m\u001b[1;33m\u001b[0m\u001b[0m\n",
      "\u001b[1;31mIndexError\u001b[0m: string index out of range"
     ]
    }
   ],
   "source": [
    "# 인덱스는 0부터 시작된다.\n",
    "word = 'Python'\n",
    "print(word[0])\n",
    "print(word[5])\n",
    "print(word[11])\n",
    "\n",
    "# 음수는 뒤에서부터 셉니다. \n",
    "print(word[-1])\n",
    "print(word[-6])"
   ]
  },
  {
   "cell_type": "code",
   "execution_count": 98,
   "id": "eb8a087d-0c9a-4bb7-bc5c-0f2d9e4e2182",
   "metadata": {},
   "outputs": [
    {
     "name": "stdout",
     "output_type": "stream",
     "text": [
      "꺾\n"
     ]
    }
   ],
   "source": [
    "sentence = '중요한 것은 꺾이지 않는 마음'\n",
    "print(sentence[7])"
   ]
  },
  {
   "cell_type": "code",
   "execution_count": 100,
   "id": "0999dcc8-6541-444d-a2a6-0bf33bf8ec8b",
   "metadata": {},
   "outputs": [
    {
     "name": "stdout",
     "output_type": "stream",
     "text": [
      "py\n"
     ]
    }
   ],
   "source": [
    "word = 'python'\n",
    "print(word[0:2])"
   ]
  },
  {
   "cell_type": "code",
   "execution_count": 103,
   "id": "fb8026fb-6f7f-4d1a-a8c6-da9af932eecc",
   "metadata": {},
   "outputs": [
    {
     "name": "stdout",
     "output_type": "stream",
     "text": [
      "pto\n"
     ]
    }
   ],
   "source": [
    "# 콜론으로 생략가능, 증감 크기, 0부터 시작하는데 2씩 증가해서 pto\n",
    "word = 'python'\n",
    "print(word[::2])"
   ]
  },
  {
   "cell_type": "code",
   "execution_count": 105,
   "id": "bc626437-44c0-4062-bd99-1c204f21b1d2",
   "metadata": {},
   "outputs": [
    {
     "name": "stdout",
     "output_type": "stream",
     "text": [
      "\n"
     ]
    }
   ],
   "source": [
    "sentence = \"중요한 것은 꺾이지 않음 마음\" \n",
    "print(sentence[42:])"
   ]
  },
  {
   "cell_type": "code",
   "execution_count": 108,
   "id": "d79dbccb-945a-406c-bf49-6c53028c8227",
   "metadata": {},
   "outputs": [
    {
     "name": "stdout",
     "output_type": "stream",
     "text": [
      "한 것은 꺾이지 않음 마음\n"
     ]
    }
   ],
   "source": [
    "# 범위를 벗어나도 유연하게 처리가능\n",
    "sentence = \"중요한 것은 꺾이지 않음 마음\" \n",
    "print(sentence[2:42])"
   ]
  },
  {
   "cell_type": "code",
   "execution_count": 111,
   "id": "96fffa2d-6286-4812-9cb2-f283e07ed1e3",
   "metadata": {},
   "outputs": [
    {
     "name": "stdout",
     "output_type": "stream",
     "text": [
      "꺾이지 않는 마음\n"
     ]
    }
   ],
   "source": [
    "sentence = \"중요한 것은 꺾이지 않는 마음\"\n",
    "print(sentence[7:])"
   ]
  },
  {
   "cell_type": "code",
   "execution_count": 134,
   "id": "f5bed21c-fe5f-41c2-9d8e-726ecb336302",
   "metadata": {},
   "outputs": [
    {
     "name": "stdout",
     "output_type": "stream",
     "text": [
      "한요중\n"
     ]
    }
   ],
   "source": [
    "sentence = \"중요한 것은 꺾이지 않는 마음\"\n",
    "print(sentence[2::-1])"
   ]
  },
  {
   "cell_type": "code",
   "execution_count": 135,
   "id": "f41d8e30-1bf0-40ed-9e4f-b017deff6d9b",
   "metadata": {},
   "outputs": [
    {
     "ename": "TypeError",
     "evalue": "'str' object does not support item assignment",
     "output_type": "error",
     "traceback": [
      "\u001b[1;31m---------------------------------------------------------------------------\u001b[0m",
      "\u001b[1;31mTypeError\u001b[0m                                 Traceback (most recent call last)",
      "\u001b[1;32m~\\AppData\\Local\\Temp\\ipykernel_4680\\2179910864.py\u001b[0m in \u001b[0;36m<module>\u001b[1;34m\u001b[0m\n\u001b[1;32m----> 1\u001b[1;33m \u001b[0msentence\u001b[0m\u001b[1;33m[\u001b[0m\u001b[1;36m0\u001b[0m\u001b[1;33m]\u001b[0m \u001b[1;33m=\u001b[0m \u001b[1;34m\"한\"\u001b[0m\u001b[1;33m\u001b[0m\u001b[1;33m\u001b[0m\u001b[0m\n\u001b[0m",
      "\u001b[1;31mTypeError\u001b[0m: 'str' object does not support item assignment"
     ]
    }
   ],
   "source": [
    "sentence[0] = \"한\""
   ]
  },
  {
   "cell_type": "code",
   "execution_count": 136,
   "id": "65620d25-38fd-4962-82b4-1dadde31b510",
   "metadata": {},
   "outputs": [
    {
     "ename": "TypeError",
     "evalue": "'str' object does not support item assignment",
     "output_type": "error",
     "traceback": [
      "\u001b[1;31m---------------------------------------------------------------------------\u001b[0m",
      "\u001b[1;31mTypeError\u001b[0m                                 Traceback (most recent call last)",
      "\u001b[1;32m~\\AppData\\Local\\Temp\\ipykernel_4680\\883934108.py\u001b[0m in \u001b[0;36m<module>\u001b[1;34m\u001b[0m\n\u001b[1;32m----> 1\u001b[1;33m \u001b[0msentence\u001b[0m\u001b[1;33m[\u001b[0m\u001b[1;36m0\u001b[0m\u001b[1;33m:\u001b[0m\u001b[1;36m3\u001b[0m\u001b[1;33m]\u001b[0m \u001b[1;33m=\u001b[0m \u001b[1;34m\"대단한\"\u001b[0m\u001b[1;33m\u001b[0m\u001b[1;33m\u001b[0m\u001b[0m\n\u001b[0m",
      "\u001b[1;31mTypeError\u001b[0m: 'str' object does not support item assignment"
     ]
    }
   ],
   "source": [
    "sentence[0:3] = \"대단한\""
   ]
  },
  {
   "cell_type": "code",
   "execution_count": 137,
   "id": "f2f8ba9b-e843-4605-8132-7ea0fd905caf",
   "metadata": {},
   "outputs": [
    {
     "name": "stdout",
     "output_type": "stream",
     "text": [
      "대단한 것은 꺾이지 않는 마음\n"
     ]
    }
   ],
   "source": [
    "sentence = \"대단한\" + sentence[3:]\n",
    "print(sentence)"
   ]
  },
  {
   "cell_type": "code",
   "execution_count": 138,
   "id": "c4d8f13e-41f0-47d3-b438-5e0d50878d4b",
   "metadata": {},
   "outputs": [
    {
     "name": "stdout",
     "output_type": "stream",
     "text": [
      "재밌어요재밌어요재밌어요재밌어요재밌어요재밌어요재밌어요재밌어요재밌어요재밌어요\n",
      "40\n"
     ]
    }
   ],
   "source": [
    "s7 = '재밌어요' * 10\n",
    "print(s7)\n",
    "print(len(s7))"
   ]
  },
  {
   "cell_type": "code",
   "execution_count": 139,
   "id": "a9e1cbd4-2c07-4784-9451-318566a8ffac",
   "metadata": {},
   "outputs": [
    {
     "name": "stdout",
     "output_type": "stream",
     "text": [
      "[1, 4, 9, 16, 25]\n"
     ]
    }
   ],
   "source": [
    "squares = [1**2, 2**2, 3**2, 4**2, 5**2]\n",
    "print(squares)"
   ]
  },
  {
   "cell_type": "code",
   "execution_count": 142,
   "id": "a32d7cd0-3abf-41ff-b3f5-d7c1fe84b7d2",
   "metadata": {},
   "outputs": [
    {
     "name": "stdout",
     "output_type": "stream",
     "text": [
      "1\n",
      "25\n"
     ]
    }
   ],
   "source": [
    "# 인덱싱을 통해 해당되는 항목(item)을 반환(return)받습니다.\n",
    "print(squares[0])\n",
    "print(squares[-1])"
   ]
  },
  {
   "cell_type": "code",
   "execution_count": 143,
   "id": "30b85f7e-4ac3-449c-be38-45437e35b776",
   "metadata": {},
   "outputs": [
    {
     "name": "stdout",
     "output_type": "stream",
     "text": [
      "[1, 4, 9, 16, 25, 36, 49, 64, 81, 100]\n"
     ]
    }
   ],
   "source": [
    "# + 를 통해 이어붙일 수 있습니다. \n",
    "print(squares + [36, 49, 64, 81, 100])"
   ]
  },
  {
   "cell_type": "code",
   "execution_count": 145,
   "id": "7951b08c-5415-4e7d-aa52-abd6d6772a4f",
   "metadata": {},
   "outputs": [
    {
     "name": "stdout",
     "output_type": "stream",
     "text": [
      "['a', 'b', 'a', 'b', 'a', 'b']\n"
     ]
    }
   ],
   "source": [
    "# 리스트는 곱하기를 통해 요소를 반복할 수 있습니다. \n",
    "letter = ['a', 'b']\n",
    "print(letter * 3)"
   ]
  },
  {
   "cell_type": "code",
   "execution_count": 146,
   "id": "43ecfda3-1274-4372-b111-605d755e9658",
   "metadata": {},
   "outputs": [
    {
     "name": "stdout",
     "output_type": "stream",
     "text": [
      "[1, 8, 27, 64, 125]\n"
     ]
    }
   ],
   "source": [
    "# 리스트는 가변(mutable)입니다. 즉 내용을 변경할 수 있습니다. \n",
    "cubes = [1, 8, 27, 65, 125] #65가 아니라 64가 올바른 값입니다. \n",
    "cubes[3] = 4**3 #인덱싱을 통해 해당 값을 변경합니다. \n",
    "print(cubes)"
   ]
  },
  {
   "cell_type": "code",
   "execution_count": 149,
   "id": "f03277b9-7282-4c72-8505-bf951b6d8146",
   "metadata": {},
   "outputs": [
    {
     "name": "stdout",
     "output_type": "stream",
     "text": [
      "5\n"
     ]
    }
   ],
   "source": [
    "letters = ['a', 'b', 'c', 'd', 'e'] \n",
    "print(len(letters))"
   ]
  },
  {
   "cell_type": "code",
   "execution_count": 150,
   "id": "0900c60f-ca0d-4af4-ab22-fee94f05c59a",
   "metadata": {},
   "outputs": [
    {
     "name": "stdout",
     "output_type": "stream",
     "text": [
      "[['a', 'b', 'c'], [1, 2, 3]]\n"
     ]
    }
   ],
   "source": [
    "a = ['a', 'b', 'c']\n",
    "n = [1, 2, 3]\n",
    "x = [a, n]\n",
    "print(x)"
   ]
  },
  {
   "cell_type": "code",
   "execution_count": 151,
   "id": "a61447ac-a549-4bc9-bf2c-2c58a46f3781",
   "metadata": {},
   "outputs": [
    {
     "name": "stdout",
     "output_type": "stream",
     "text": [
      "['a', 'b', 'c']\n"
     ]
    }
   ],
   "source": [
    "print(x[0])"
   ]
  },
  {
   "cell_type": "code",
   "execution_count": 152,
   "id": "ea47a68e-61e0-4bb7-881d-ec25b734cec7",
   "metadata": {},
   "outputs": [
    {
     "name": "stdout",
     "output_type": "stream",
     "text": [
      "b\n"
     ]
    }
   ],
   "source": [
    "print(x[0][1])"
   ]
  },
  {
   "cell_type": "code",
   "execution_count": 155,
   "id": "ff298541-063c-471a-bfe9-577c8e59648b",
   "metadata": {},
   "outputs": [
    {
     "name": "stdout",
     "output_type": "stream",
     "text": [
      "True\n",
      "False\n"
     ]
    }
   ],
   "source": [
    "numbers = [1, 2, 3, 4, 5, 6, 7]\n",
    "print(5 in numbers)\n",
    "print(10 in numbers)"
   ]
  }
 ],
 "metadata": {
  "kernelspec": {
   "display_name": "Python 3 (ipykernel)",
   "language": "python",
   "name": "python3"
  },
  "language_info": {
   "codemirror_mode": {
    "name": "ipython",
    "version": 3
   },
   "file_extension": ".py",
   "mimetype": "text/x-python",
   "name": "python",
   "nbconvert_exporter": "python",
   "pygments_lexer": "ipython3",
   "version": "3.9.13"
  }
 },
 "nbformat": 4,
 "nbformat_minor": 5
}
