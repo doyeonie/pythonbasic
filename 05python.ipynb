{
 "cells": [
  {
   "cell_type": "code",
   "execution_count": 2,
   "id": "873752d5-b7b6-4d5a-a4eb-a303dd6eccb8",
   "metadata": {},
   "outputs": [
    {
     "ename": "SyntaxError",
     "evalue": "cannot assign to function call (2830891995.py, line 2)",
     "output_type": "error",
     "traceback": [
      "\u001b[1;36m  File \u001b[1;32m\"C:\\Users\\Playdata\\AppData\\Local\\Temp\\ipykernel_18588\\2830891995.py\"\u001b[1;36m, line \u001b[1;32m2\u001b[0m\n\u001b[1;33m    print(language[0], language[2]), sep=\"\")\u001b[0m\n\u001b[1;37m    ^\u001b[0m\n\u001b[1;31mSyntaxError\u001b[0m\u001b[1;31m:\u001b[0m cannot assign to function call\n"
     ]
    }
   ],
   "source": [
    "language = 'Python'\n",
    "print(language[0], language[2]), sep=\"\")"
   ]
  },
  {
   "cell_type": "code",
   "execution_count": 8,
   "id": "13d6d49d-4394-4bcf-a7ef-d25d640a0e01",
   "metadata": {},
   "outputs": [
    {
     "name": "stdout",
     "output_type": "stream",
     "text": [
      "[0, 1, '짝', 3, 4, '짝', 6, 7, '짝', 9]\n"
     ]
    }
   ],
   "source": [
    "list = [1, 2, 3, 4, 5, 6, 7, 8, 9, 10]\n",
    "print([0, 1, \"짝\", 3, 4, \"짝\", 6, 7, \"짝\", 9]) "
   ]
  },
  {
   "cell_type": "code",
   "execution_count": 12,
   "id": "8df8f818-1c7a-4ac2-b547-13a2f3336694",
   "metadata": {},
   "outputs": [
    {
     "name": "stdout",
     "output_type": "stream",
     "text": [
      "아쉽게도 불합격입니다.\n",
      "안내를 종료합니다\n"
     ]
    }
   ],
   "source": [
    "# 4강 연습문제 \n",
    "# if else \n",
    "\n",
    "score = 50\n",
    "\n",
    "# 60점 이상이면 합격\n",
    "if score >= 60:\n",
    "    print(\"합격을 축하드립니다.\")\n",
    "else:\n",
    "    print(\"아쉽게도 불합격입니다.\")\n",
    "print(\"안내를 종료합니다\")"
   ]
  },
  {
   "cell_type": "code",
   "execution_count": 16,
   "id": "08b71557-1256-44ae-ac54-dcb1cc2180e5",
   "metadata": {},
   "outputs": [
    {
     "name": "stdin",
     "output_type": "stream",
     "text": [
      "자연수 하나 입력해주세요: 21\n"
     ]
    },
    {
     "name": "stdout",
     "output_type": "stream",
     "text": [
      "홀수입니다.\n"
     ]
    }
   ],
   "source": [
    "number = int(input(\"자연수 하나 입력해주세요:\"))\n",
    "\n",
    "if number%2 == 0:\n",
    "    print(\"짝수입니다.\")\n",
    "else:\n",
    "    print(\"홀수입니다.\")"
   ]
  },
  {
   "cell_type": "code",
   "execution_count": 17,
   "id": "f4b96191-1b44-4128-8e51-096dfd0f349c",
   "metadata": {},
   "outputs": [
    {
     "ename": "SyntaxError",
     "evalue": "invalid syntax (1206143694.py, line 2)",
     "output_type": "error",
     "traceback": [
      "\u001b[1;36m  File \u001b[1;32m\"C:\\Users\\Playdata\\AppData\\Local\\Temp\\ipykernel_18588\\1206143694.py\"\u001b[1;36m, line \u001b[1;32m2\u001b[0m\n\u001b[1;33m    s2 = int(input(\"소프트웨어 개발 점수를 입력하세요.\")\u001b[0m\n\u001b[1;37m    ^\u001b[0m\n\u001b[1;31mSyntaxError\u001b[0m\u001b[1;31m:\u001b[0m invalid syntax\n"
     ]
    }
   ],
   "source": [
    "s1 = int(input(\"소프트웨어 설계 점수를 입력하세요.\")\n",
    "s2 = int(input(\"소프트웨어 개발 점수를 입력하세요.\")\n"
   ]
  },
  {
   "cell_type": "code",
   "execution_count": 21,
   "id": "a29d4c2a-d954-4a9e-925a-99aa70e1761b",
   "metadata": {},
   "outputs": [
    {
     "name": "stdout",
     "output_type": "stream",
     "text": [
      "Hello world\n",
      "Hello world\n",
      "Hello world\n",
      "Hello world\n",
      "Hello world\n",
      "Hello world\n",
      "Hello world\n",
      "Hello world\n",
      "Hello world\n",
      "Hello world\n"
     ]
    }
   ],
   "source": [
    "for n in range(10):\n",
    "    print(\"Hello world\")"
   ]
  },
  {
   "cell_type": "code",
   "execution_count": 27,
   "id": "1b4a389a-4395-4114-aecf-6c399e00a80c",
   "metadata": {},
   "outputs": [
    {
     "name": "stdin",
     "output_type": "stream",
     "text": [
      "구구단을 알려드립니다. 숫자를 입력하세요 9\n"
     ]
    }
   ],
   "source": [
    "num = int(input(\"구구단을 알려드립니다. 숫자를 입력하세요\"))\n"
   ]
  },
  {
   "cell_type": "code",
   "execution_count": 28,
   "id": "82bc5699-c52d-4d8d-b647-cffd96d05d0b",
   "metadata": {},
   "outputs": [
    {
     "name": "stdout",
     "output_type": "stream",
     "text": [
      "십 구 팔 칠 육 오 사 삼 이 일 "
     ]
    }
   ],
   "source": [
    "for _ in reversed(\"일이삼사오육칠팔구십\"):\n",
    "    print(_, end=\" \")\n",
    "                "
   ]
  },
  {
   "cell_type": "code",
   "execution_count": 42,
   "id": "cf2733b0-144b-4346-b669-2e040d5660c5",
   "metadata": {},
   "outputs": [
    {
     "name": "stdout",
     "output_type": "stream",
     "text": [
      "*****\n",
      "*****\n",
      "*****\n",
      "*****\n",
      "*****\n"
     ]
    }
   ],
   "source": [
    "i = \"*\"\n",
    "\n",
    "for star in range (5):\n",
    "    for j in range(5):\n",
    "        print(\"*\", end=\"\")\n",
    "    print()\n"
   ]
  },
  {
   "cell_type": "code",
   "execution_count": 44,
   "id": "71fc171b-5e7a-4c57-82d4-8b6db50c6124",
   "metadata": {},
   "outputs": [
    {
     "name": "stdout",
     "output_type": "stream",
     "text": [
      "Hello world!\n",
      "Hello world!\n",
      "Hello world!\n",
      "Hello world!\n",
      "Hello world!\n",
      "Hello world!\n",
      "Hello world!\n",
      "Hello world!\n",
      "Hello world!\n",
      "Hello world!\n"
     ]
    }
   ],
   "source": [
    "i = 0                         # 초기식\n",
    "while i < 10:                # while 조건식\n",
    "    print(\"Hello world!\")     # 반복할 코드\n",
    "    i += 1                    # 변화식"
   ]
  },
  {
   "cell_type": "code",
   "execution_count": 49,
   "id": "2fcc581a-7c43-479c-9169-622024be38f9",
   "metadata": {},
   "outputs": [
    {
     "name": "stdin",
     "output_type": "stream",
     "text": [
      "반복할 횟수를 입력하세요:  3\n"
     ]
    },
    {
     "name": "stdout",
     "output_type": "stream",
     "text": [
      "Hello world 3\n",
      "Hello world 2\n",
      "Hello world 1\n"
     ]
    }
   ],
   "source": [
    "count = int(input(\"반복할 횟수를 입력하세요: \"))\n",
    "\n",
    "while count > 0:\n",
    "    print(\"Hello world\", count)\n",
    "    count -= 1"
   ]
  },
  {
   "cell_type": "code",
   "execution_count": 69,
   "id": "c114ebff-8ae3-48b0-8851-5a1fc34947f6",
   "metadata": {},
   "outputs": [
    {
     "name": "stdout",
     "output_type": "stream",
     "text": [
      "2\t4\t6\t8\t10\t12\t14\t16\t18\t20\t22\t24\t26\t28\t30\t32\t34\t36\t38\t40\t42\t44\t46\t48\t50\t52\t54\t56\t58\t60\t62\t64\t66\t68\t70\t72\t74\t76\t78\t80\t82\t84\t86\t88\t90\t92\t94\t96\t98\t100\t"
     ]
    }
   ],
   "source": [
    "i = 1\n",
    "while i <= 50:\n",
    "    print(i * 2, end=\"\\t\")\n",
    "    i += 1"
   ]
  },
  {
   "cell_type": "code",
   "execution_count": null,
   "id": "629a11d1-c8d2-4022-b12f-94ca97fb8e51",
   "metadata": {},
   "outputs": [],
   "source": [
    "i = 9\n",
    "\n",
    "while i <= 10:\n",
    "    j = 1\n",
    "    while j <= 10:\n",
    "        print(f\"{i}*{j}= {i*j}\")\n",
    "        j += 1\n",
    "    i += 1"
   ]
  },
  {
   "cell_type": "code",
   "execution_count": null,
   "id": "e6b6adfa-47f7-4c9c-8153-8d77f7f309e9",
   "metadata": {},
   "outputs": [],
   "source": [
    "i = 9\n",
    "\n",
    "while i <= 10:\n",
    "    j = 1\n",
    "    while j <= 10:\n",
    "        print(f\"{i}*{j}= {i*j}\")\n",
    "        j += 1\n",
    "    i += 1"
   ]
  },
  {
   "cell_type": "raw",
   "id": "1b048924-f756-41e6-8aba-abe387374b89",
   "metadata": {},
   "source": [
    "i = 9\n",
    "while i <= 10:\n",
    "    j = 1\n",
    "    while j <= 10:\n",
    "        print(f\"{i}*{j}= {i*j}\")\n",
    "        j += 1\n",
    "    i += 1"
   ]
  },
  {
   "cell_type": "code",
   "execution_count": 27,
   "id": "903292e8-7fd9-44bc-91be-bb39356dde78",
   "metadata": {},
   "outputs": [
    {
     "name": "stdin",
     "output_type": "stream",
     "text": [
      "구구단을 알려드립니다. 숫자를 입력하세요:  9\n"
     ]
    },
    {
     "name": "stdout",
     "output_type": "stream",
     "text": [
      "9 * 1 = 9\n",
      "9 * 2 = 18\n",
      "9 * 3 = 27\n",
      "9 * 4 = 36\n",
      "9 * 5 = 45\n",
      "9 * 6 = 54\n",
      "9 * 7 = 63\n",
      "9 * 8 = 72\n",
      "9 * 9 = 81\n"
     ]
    }
   ],
   "source": [
    "num = int(input(\"구구단을 알려드립니다. 숫자를 입력하세요: \"))\n",
    "i = 1\n",
    "while i < 10:\n",
    "    print(num, '*', i,'=',num*i)\n",
    "    i += 1"
   ]
  },
  {
   "cell_type": "code",
   "execution_count": 14,
   "id": "322c9793-041f-40b1-b532-94a9908855a9",
   "metadata": {
    "jupyter": {
     "source_hidden": true
    },
    "tags": []
   },
   "outputs": [
    {
     "name": "stdin",
     "output_type": "stream",
     "text": [
      "구구단을 알려드립니다. 숫자를 입력하세요.: 6\n"
     ]
    },
    {
     "name": "stdout",
     "output_type": "stream",
     "text": [
      "6 * 1 = 6\n",
      "6 * 2 = 12\n",
      "6 * 3 = 18\n",
      "6 * 4 = 24\n",
      "6 * 5 = 30\n",
      "6 * 6 = 36\n",
      "6 * 7 = 42\n",
      "6 * 8 = 48\n",
      "6 * 9 = 54\n"
     ]
    }
   ],
   "source": [
    "num1 = int(input(\"구구단을 알려드립니다. 숫자를 입력하세요.:\"))\n",
    "i = 1\n",
    "while i <= 9:\n",
    "    print(num1, \"*\", i, \"=\", num1*i)\n",
    "    i += 1"
   ]
  },
  {
   "cell_type": "code",
   "execution_count": null,
   "id": "57f181b6-f27a-4a0d-a306-299731cfe218",
   "metadata": {},
   "outputs": [
    {
     "name": "stdin",
     "output_type": "stream",
     "text": [
      "학생의 수: 3\n"
     ]
    }
   ],
   "source": [
    "s = int(input(\"학생의 수:\"))\n",
    "i = 1\n",
    "t = 0\n",
    "\n",
    "while i <= s:\n",
    "    a = int(input(str(i)+\"번 학생의 점수\"))\n",
    "    t += a\n",
    "    i += 1\n",
    "print(\"평균 :\", float(t/s), \"점\")\n"
   ]
  },
  {
   "cell_type": "code",
   "execution_count": 41,
   "id": "4da3f0df-8890-4576-9f89-bc8a875634b1",
   "metadata": {},
   "outputs": [
    {
     "name": "stdin",
     "output_type": "stream",
     "text": [
      "1번 학생 점수를 입력하세요 1\n",
      "2번 학생 점수를 입력하세요 77\n",
      "3번 학생 점수를 입력하세요 5\n"
     ]
    },
    {
     "name": "stdout",
     "output_type": "stream",
     "text": [
      "합격입니다\n"
     ]
    }
   ],
   "source": [
    "i = 1\n",
    "t = 0\n",
    "\n",
    "while i <= s:\n",
    "    a = int(input(str(i)+\"번 학생 점수를 입력하세요\"))\n",
    "    t += a\n",
    "    i += 1\n",
    "    \n",
    "if t >= 70:\n",
    "    print(\"합격입니다\")\n",
    "    \n",
    "else :\n",
    "    print(\"아쉽네요! 분발하세요\")\n",
    "    \n"
   ]
  },
  {
   "cell_type": "code",
   "execution_count": 51,
   "id": "b6739567-dbf2-4a85-a9b5-ebd36aba4e36",
   "metadata": {},
   "outputs": [
    {
     "name": "stdout",
     "output_type": "stream",
     "text": [
      "79.0\n"
     ]
    }
   ],
   "source": [
    "class_a = (70, 60, 55, 75, 95, 90, 80, 80, 85, 100)\n",
    "\n",
    "i = 0 # 디폴트\n",
    "j = 0 # 평균 내려고 더하기 위한 허수\n",
    "\n",
    "while i < len(class_a):\n",
    "    j += class_a[i]\n",
    "    i += 1\n",
    "    \n",
    "print(j/len(class_a))"
   ]
  },
  {
   "cell_type": "code",
   "execution_count": 53,
   "id": "20091c2a-78cb-427d-8265-950599e815fe",
   "metadata": {},
   "outputs": [
    {
     "name": "stdout",
     "output_type": "stream",
     "text": [
      "79.0\n"
     ]
    }
   ],
   "source": [
    "class_a = (70, 60, 55, 75, 95, 90, 80, 80, 85, 100)\n",
    "\n",
    "i = 0 # 디폴트\n",
    "j = 0 # 평균 내려고 더하기 위한 허수\n",
    "\n",
    "while i < len(class_a):\n",
    "    j += class_a[i]\n",
    "    i += 1\n",
    "    \n",
    "average = j / len(class_a)\n",
    "\n",
    "print(average)"
   ]
  },
  {
   "cell_type": "code",
   "execution_count": 57,
   "id": "f289b0c0-88a8-4248-9463-b26205e61fb8",
   "metadata": {},
   "outputs": [
    {
     "name": "stdout",
     "output_type": "stream",
     "text": [
      "0\n",
      "1\n",
      "2\n",
      "3\n",
      "4\n",
      "5\n",
      "6\n",
      "7\n",
      "8\n",
      "9\n",
      "10\n",
      "11\n",
      "12\n",
      "13\n",
      "14\n",
      "15\n",
      "16\n",
      "17\n",
      "18\n",
      "19\n",
      "20\n",
      "21\n",
      "22\n",
      "23\n",
      "24\n",
      "25\n",
      "26\n",
      "27\n",
      "28\n",
      "29\n",
      "30\n",
      "31\n",
      "32\n",
      "33\n",
      "34\n",
      "35\n",
      "36\n",
      "37\n",
      "38\n",
      "39\n",
      "40\n",
      "41\n",
      "42\n",
      "43\n",
      "44\n",
      "45\n",
      "46\n",
      "47\n",
      "48\n",
      "49\n",
      "50\n",
      "51\n",
      "52\n",
      "53\n",
      "54\n",
      "55\n",
      "56\n",
      "57\n",
      "58\n",
      "59\n",
      "60\n",
      "61\n",
      "62\n",
      "63\n",
      "64\n",
      "65\n",
      "66\n",
      "67\n",
      "68\n",
      "69\n",
      "70\n",
      "71\n",
      "72\n",
      "73\n",
      "74\n",
      "75\n",
      "76\n",
      "77\n",
      "78\n",
      "79\n",
      "80\n",
      "81\n",
      "82\n",
      "83\n",
      "84\n",
      "85\n",
      "86\n",
      "87\n",
      "88\n",
      "89\n",
      "90\n",
      "91\n",
      "92\n",
      "93\n",
      "94\n",
      "95\n",
      "96\n",
      "97\n",
      "98\n",
      "99\n",
      "100\n"
     ]
    }
   ],
   "source": [
    "# 10000회 반복\n",
    "for _ in range(10000):\n",
    "    print(_)\n",
    "    if _ == 100:\n",
    "        break"
   ]
  },
  {
   "cell_type": "code",
   "execution_count": 60,
   "id": "e0cc63a4-7305-4701-b464-c03954772b6f",
   "metadata": {},
   "outputs": [
    {
     "ename": "SyntaxError",
     "evalue": "invalid syntax (2870457281.py, line 6)",
     "output_type": "error",
     "traceback": [
      "\u001b[1;36m  File \u001b[1;32m\"C:\\Users\\Playdata\\AppData\\Local\\Temp\\ipykernel_1080\\2870457281.py\"\u001b[1;36m, line \u001b[1;32m6\u001b[0m\n\u001b[1;33m    break:\u001b[0m\n\u001b[1;37m         ^\u001b[0m\n\u001b[1;31mSyntaxError\u001b[0m\u001b[1;31m:\u001b[0m invalid syntax\n"
     ]
    }
   ],
   "source": [
    "i = 0\n",
    "while True:\n",
    "    print(\"Hello world\")\n",
    "    i += 1\n",
    "    if i == 100:\n",
    "        break:\n",
    "        "
   ]
  },
  {
   "cell_type": "code",
   "execution_count": null,
   "id": "846aba44-64f3-4685-b59f-8f44632e62a6",
   "metadata": {},
   "outputs": [],
   "source": [
    "i = 0 \n",
    "total  = 0\n",
    "while True:\n",
    "    prin(total[i]) \n",
    "    i += 1\n",
    "    if i == 100:\n",
    "        break"
   ]
  },
  {
   "cell_type": "code",
   "execution_count": 1,
   "id": "0c99bc03-695b-415d-9133-715e25354135",
   "metadata": {},
   "outputs": [
    {
     "ename": "KeyboardInterrupt",
     "evalue": "",
     "output_type": "error",
     "traceback": [
      "\u001b[1;31m---------------------------------------------------------------------------\u001b[0m",
      "\u001b[1;31mKeyboardInterrupt\u001b[0m                         Traceback (most recent call last)",
      "\u001b[1;32m~\\AppData\\Local\\Temp\\ipykernel_7612\\983711976.py\u001b[0m in \u001b[0;36m<module>\u001b[1;34m\u001b[0m\n\u001b[0;32m      2\u001b[0m \u001b[0mtotal\u001b[0m  \u001b[1;33m=\u001b[0m \u001b[1;36m0\u001b[0m\u001b[1;33m\u001b[0m\u001b[1;33m\u001b[0m\u001b[0m\n\u001b[0;32m      3\u001b[0m \u001b[1;32mwhile\u001b[0m \u001b[1;32mTrue\u001b[0m\u001b[1;33m:\u001b[0m\u001b[1;33m\u001b[0m\u001b[1;33m\u001b[0m\u001b[0m\n\u001b[1;32m----> 4\u001b[1;33m     \u001b[0mtotal\u001b[0m \u001b[1;33m+=\u001b[0m \u001b[0mi\u001b[0m\u001b[1;33m\u001b[0m\u001b[1;33m\u001b[0m\u001b[0m\n\u001b[0m\u001b[0;32m      5\u001b[0m     \u001b[0mi\u001b[0m \u001b[1;33m=\u001b[0m \u001b[0mi\u001b[0m \u001b[1;33m+\u001b[0m \u001b[0mi\u001b[0m\u001b[1;33m\u001b[0m\u001b[1;33m\u001b[0m\u001b[0m\n\u001b[0;32m      6\u001b[0m     \u001b[1;32mif\u001b[0m \u001b[0mi\u001b[0m \u001b[1;33m>\u001b[0m \u001b[1;36m100\u001b[0m\u001b[1;33m:\u001b[0m\u001b[1;33m\u001b[0m\u001b[1;33m\u001b[0m\u001b[0m\n",
      "\u001b[1;31mKeyboardInterrupt\u001b[0m: "
     ]
    }
   ],
   "source": [
    "i = 0 \n",
    "total  = 0\n",
    "while True:\n",
    "    total += i\n",
    "    i = i + i\n",
    "    if i > 100:\n",
    "        break\n",
    "print(total)"
   ]
  },
  {
   "cell_type": "code",
   "execution_count": 1,
   "id": "bac1cffd-2bd3-47df-a183-1037ef9ffaa8",
   "metadata": {},
   "outputs": [
    {
     "name": "stdin",
     "output_type": "stream",
     "text": [
      "q를 입력하면 종료됩니다. 히히\n",
      "q를 입력하면 종료됩니다. 헤헤\n",
      "q를 입력하면 종료됩니다. 호호\n",
      "q를 입력하면 종료됩니다.  q\n",
      "q를 입력하면 종료됩니다. q\n"
     ]
    },
    {
     "name": "stdout",
     "output_type": "stream",
     "text": [
      "프로그램을 종료합니다.\n"
     ]
    }
   ],
   "source": [
    "while True:\n",
    "    input_value = input(\"q를 입력하면 종료됩니다.\")\n",
    "    if input_value == \"q\": break\n",
    "print(\"프로그램을 종료합니다.\")"
   ]
  },
  {
   "cell_type": "code",
   "execution_count": 4,
   "id": "575e01fc-bcfd-4e12-924b-a41f08e93111",
   "metadata": {},
   "outputs": [
    {
     "name": "stdout",
     "output_type": "stream",
     "text": [
      "99\t"
     ]
    }
   ],
   "source": [
    "for i in range(100): # 0부터 99까지 증가하면서 100번 반복\n",
    "    if i % 2 == 0: # i를 2로 나누었을 떄 나머지가 0면 짝수\n",
    "        continue # 아래 코드를 실행하지 않고 건너뜀\n",
    "print(i, end=\"\\t\")"
   ]
  },
  {
   "cell_type": "code",
   "execution_count": 6,
   "id": "8c934cb8-0047-4a36-93a4-b67dff5fe8d6",
   "metadata": {},
   "outputs": [
    {
     "name": "stdout",
     "output_type": "stream",
     "text": [
      "1\t3\t5\t7\t9\t11\t13\t15\t17\t19\t21\t23\t25\t27\t29\t31\t33\t35\t37\t39\t41\t43\t45\t47\t49\t51\t53\t55\t57\t59\t61\t63\t65\t67\t69\t71\t73\t75\t77\t79\t81\t83\t85\t87\t89\t91\t93\t95\t97\t99\t"
     ]
    }
   ],
   "source": [
    "i = 0\n",
    "while i < 100:\n",
    "    i += 1\n",
    "    if i % 2 == 0:\n",
    "        continue\n",
    "    print(i, end=\"\\t\")"
   ]
  },
  {
   "cell_type": "code",
   "execution_count": 12,
   "id": "b28c35f0-f127-440a-94cb-63a73a5f03ea",
   "metadata": {},
   "outputs": [
    {
     "name": "stdout",
     "output_type": "stream",
     "text": [
      "1 2 3 4 5 6 7 8 9 10 11 12 13 14 15 16 17 18 19 20 21 22 23 24 25 26 27 28 29 30 31 32 33 34 35 36 37 38 39 40 41 42 43 44 45 46 47 48 49 50 51 52 53 54 55 56 57 58 59 60 61 62 63 64 65 66 67 68 69 70 71 72 73 74 75 76 77 78 79 80 81 82 83 84 85 86 87 88 89 90 91 92 93 94 95 96 97 98 99 100 "
     ]
    },
    {
     "ename": "KeyboardInterrupt",
     "evalue": "",
     "output_type": "error",
     "traceback": [
      "\u001b[1;31m---------------------------------------------------------------------------\u001b[0m",
      "\u001b[1;31mKeyboardInterrupt\u001b[0m                         Traceback (most recent call last)",
      "\u001b[1;32m~\\AppData\\Local\\Temp\\ipykernel_4580\\4280223788.py\u001b[0m in \u001b[0;36m<module>\u001b[1;34m\u001b[0m\n\u001b[0;32m      1\u001b[0m \u001b[0mi\u001b[0m \u001b[1;33m=\u001b[0m \u001b[1;36m0\u001b[0m\u001b[1;33m\u001b[0m\u001b[1;33m\u001b[0m\u001b[0m\n\u001b[0;32m      2\u001b[0m \u001b[1;32mwhile\u001b[0m \u001b[1;32mTrue\u001b[0m\u001b[1;33m:\u001b[0m\u001b[1;33m\u001b[0m\u001b[1;33m\u001b[0m\u001b[0m\n\u001b[1;32m----> 3\u001b[1;33m     \u001b[0mi\u001b[0m \u001b[1;33m+=\u001b[0m \u001b[1;36m1\u001b[0m\u001b[1;33m\u001b[0m\u001b[1;33m\u001b[0m\u001b[0m\n\u001b[0m\u001b[0;32m      4\u001b[0m     \u001b[1;32mif\u001b[0m \u001b[0mi\u001b[0m \u001b[1;33m>\u001b[0m \u001b[1;36m100\u001b[0m\u001b[1;33m:\u001b[0m\u001b[1;33m\u001b[0m\u001b[1;33m\u001b[0m\u001b[0m\n\u001b[0;32m      5\u001b[0m         \u001b[1;32mcontinue\u001b[0m\u001b[1;33m\u001b[0m\u001b[1;33m\u001b[0m\u001b[0m\n",
      "\u001b[1;31mKeyboardInterrupt\u001b[0m: "
     ]
    }
   ],
   "source": [
    "i = 0\n",
    "while True:\n",
    "    i += 1\n",
    "    if i > 100 and %  :\n",
    "        continue\n",
    "    print(i, end=' ')\n"
   ]
  },
  {
   "cell_type": "code",
   "execution_count": 17,
   "id": "c00780e0-736d-45b9-8c22-49fe04b5b429",
   "metadata": {},
   "outputs": [
    {
     "name": "stdout",
     "output_type": "stream",
     "text": [
      "3 13 23 33 43 53 63 73 83 93 "
     ]
    }
   ],
   "source": [
    "i = 0\n",
    "while True:\n",
    "    if i % 10 !=3:\n",
    "        i+=1\n",
    "        continue\n",
    "    if i > 100:\n",
    "        break\n",
    "    print(i,end=' ')\n",
    "    i += 1"
   ]
  },
  {
   "cell_type": "code",
   "execution_count": 19,
   "id": "a3be431f-706e-4167-af48-cbd695437fc2",
   "metadata": {},
   "outputs": [
    {
     "name": "stdout",
     "output_type": "stream",
     "text": [
      "3 13 23 33 43 53 63 73 83 93 "
     ]
    }
   ],
   "source": [
    "i = 0\n",
    "while True:\n",
    "    if i % 10 !=3:\n",
    "        i += 1\n",
    "        continue\n",
    "    if i > 100:\n",
    "        break\n",
    "    print(i, end=\" \")\n",
    "    i += 1"
   ]
  },
  {
   "cell_type": "code",
   "execution_count": 30,
   "id": "0481e96e-062a-4ef1-b75c-1255ba46babe",
   "metadata": {},
   "outputs": [
    {
     "name": "stdout",
     "output_type": "stream",
     "text": [
      "1 2 3 4 5 6 7 8 9 10 "
     ]
    }
   ],
   "source": [
    "for _ in range(1,11):\n",
    "    print(_, end=\" \")"
   ]
  },
  {
   "cell_type": "code",
   "execution_count": 4,
   "id": "8497f520-a1b7-4fd0-a43d-58c9ea8ec5bd",
   "metadata": {},
   "outputs": [
    {
     "name": "stdout",
     "output_type": "stream",
     "text": [
      "1 2 3 4 5 6 7 8 9 10 "
     ]
    }
   ],
   "source": [
    "i = 1\n",
    "while i <= 10 :\n",
    "    print(i, end=\" \")\n",
    "    i += 1"
   ]
  },
  {
   "cell_type": "code",
   "execution_count": 29,
   "id": "52b5f8e1-2b08-4254-9c35-deecae261105",
   "metadata": {},
   "outputs": [
    {
     "name": "stdin",
     "output_type": "stream",
     "text": [
      "시작하는 정수 입력: 5\n",
      "끝나는 정수 입력: 80\n"
     ]
    },
    {
     "name": "stdout",
     "output_type": "stream",
     "text": [
      "5부터 80까지의 합은 3230입니다.\n"
     ]
    }
   ],
   "source": [
    "s_int = int(input(\"시작하는 정수 입력:\"))\n",
    "e_int = int(input(\"끝나는 정수 입력:\"))\n",
    "i = 1\n",
    "t = 0\n",
    "\n",
    "for i in range(s_int, e_int+1):\n",
    "    t += i\n",
    "print(f'{s_int}부터 {e_int}까지의 합은 {t}입니다.')\n"
   ]
  },
  {
   "cell_type": "code",
   "execution_count": 38,
   "id": "05430e96-645b-45bd-99df-afab077e97dd",
   "metadata": {},
   "outputs": [
    {
     "name": "stdin",
     "output_type": "stream",
     "text": [
      "시작하는 정수 입력: 5\n",
      "끝나는 정수 입력: 80\n"
     ]
    },
    {
     "name": "stdout",
     "output_type": "stream",
     "text": [
      "5부터 80까지의 합은 55입니다.\n"
     ]
    }
   ],
   "source": [
    "s_int = int(input(\"시작하는 정수 입력:\"))\n",
    "e_int = int(input(\"끝나는 정수 입력:\"))\n",
    "\n",
    "# while문 사용 \n",
    "i = 1\n",
    "t = 0\n",
    "\n",
    "while i <= 10:\n",
    "    t += i\n",
    "    i = i+1\n",
    "\n",
    "print(f'{s_int}부터 {e_int}까지의 합은 {t}입니다.')"
   ]
  },
  {
   "cell_type": "code",
   "execution_count": 56,
   "id": "a2a63fa8-d3c7-4da5-9594-c65c3fd8e5ba",
   "metadata": {},
   "outputs": [
    {
     "name": "stdin",
     "output_type": "stream",
     "text": [
      "시작하는 정수 입력: 4\n",
      "끝나는 정수 입력: 9\n"
     ]
    },
    {
     "name": "stdout",
     "output_type": "stream",
     "text": [
      "4부터 9까지의 합은 39입니다.\n"
     ]
    }
   ],
   "source": [
    "s_int = int(input(\"시작하는 정수 입력:\"))\n",
    "e_int = int(input(\"끝나는 정수 입력:\"))\n",
    "\n",
    "# while문 사용 \n",
    "i = s_int\n",
    "total = 0\n",
    "\n",
    "while i <= e_int:\n",
    "    total += i\n",
    "    i = i+1\n",
    "\n",
    "print(f'{s_int}부터 {e_int}까지의 합은 {total}입니다.')"
   ]
  },
  {
   "cell_type": "code",
   "execution_count": 50,
   "id": "5f49c3c3-0875-4e19-827d-adef35cf471c",
   "metadata": {},
   "outputs": [
    {
     "name": "stdin",
     "output_type": "stream",
     "text": [
      "시작하는 정수 입력: 4\n",
      "끝나는 정수 입력: 7\n"
     ]
    },
    {
     "name": "stdout",
     "output_type": "stream",
     "text": [
      "4부터 7까지의 합은 52입니다.\n"
     ]
    }
   ],
   "source": [
    "s_int1 = int(input(\"시작하는 정수 입력:\"))\n",
    "e_int1 = int(input(\"끝나는 정수 입력:\"))\n",
    "t1 = 0\n",
    "\n",
    "for i in range(s_int1, e_int1+1):\n",
    "    if i % 2 == 0:\n",
    "        t1+=i**2  \n",
    "print(f'{s_int1}부터 {e_int1}까지의 합은 {t1}입니다.')"
   ]
  },
  {
   "cell_type": "code",
   "execution_count": 58,
   "id": "a1a2a5f7-7fd5-4d41-a94c-751d2e265317",
   "metadata": {},
   "outputs": [
    {
     "name": "stdin",
     "output_type": "stream",
     "text": [
      "시작하는 정수 입력: 4\n",
      "끝나는 정수 입력: 7\n"
     ]
    },
    {
     "name": "stdout",
     "output_type": "stream",
     "text": [
      "4부터 7까지의 합은 52입니다.\n"
     ]
    }
   ],
   "source": [
    "s_int3 = int(input(\"시작하는 정수 입력:\"))\n",
    "e_int3 = int(input(\"끝나는 정수 입력:\"))\n",
    "\n",
    "# while문 사용 \n",
    "i1 = s_int3\n",
    "total3 = 0\n",
    "\n",
    "while i1 <= e_int3:\n",
    "    if i1 % 2 == 0:\n",
    "        total3+=i1**2\n",
    "    i1 = i1+1\n",
    "\n",
    "print(f'{s_int3}부터 {e_int3}까지의 합은 {total3}입니다.')"
   ]
  },
  {
   "cell_type": "code",
   "execution_count": 60,
   "id": "1bd4e7a8-aecf-41ee-b080-7bcfd85959fb",
   "metadata": {},
   "outputs": [
    {
     "name": "stdin",
     "output_type": "stream",
     "text": [
      "시작하는 정수 입력: 7\n",
      "끝나는 정수 입력: 8\n"
     ]
    },
    {
     "name": "stdout",
     "output_type": "stream",
     "text": [
      "7부터 8사이 짝수 제곱의 합은 64입니다.\n"
     ]
    }
   ],
   "source": [
    "s_int3 = int(input(\"시작하는 정수 입력:\"))\n",
    "e_int3 = int(input(\"끝나는 정수 입력:\"))\n",
    "\n",
    "# while문 사용 \n",
    "i1 = s_int3\n",
    "total3 = 0\n",
    "\n",
    "while i1 <= e_int3:\n",
    "    if i1 % 2 == 0:\n",
    "        total3+=i1**2\n",
    "    i1 = i1+1\n",
    "\n",
    "print(f'{s_int3}부터 {e_int3}사이 짝수 제곱의 합은 {total3}입니다.')"
   ]
  },
  {
   "cell_type": "code",
   "execution_count": 61,
   "id": "794df272-6862-44d8-9390-c0012c25f65b",
   "metadata": {},
   "outputs": [
    {
     "name": "stdin",
     "output_type": "stream",
     "text": [
      "시작하는 정수 입력: 7\n",
      "끝나는 정수 입력: 49\n"
     ]
    },
    {
     "name": "stdout",
     "output_type": "stream",
     "text": [
      "7부터 49까지 홀수 제곱의 합은 20790입니다.\n"
     ]
    }
   ],
   "source": [
    "s_int3 = int(input(\"시작하는 정수 입력:\"))\n",
    "e_int3 = int(input(\"끝나는 정수 입력:\"))\n",
    "\n",
    "# while문 사용 \n",
    "i1 = s_int3\n",
    "total3 = 0\n",
    "\n",
    "while i1 <= e_int3:\n",
    "    if i1 % 2 == 1:\n",
    "        total3+=i1**2\n",
    "    i1 = i1+1\n",
    "\n",
    "print(f'{s_int3}부터 {e_int3}까지 홀수 제곱의 합은 {total3}입니다.')"
   ]
  },
  {
   "cell_type": "code",
   "execution_count": 85,
   "id": "6b53f94c-9e8e-4623-a5e5-e7d8fba298c7",
   "metadata": {},
   "outputs": [
    {
     "name": "stdout",
     "output_type": "stream",
     "text": [
      "79.0\n"
     ]
    }
   ],
   "source": [
    "Kor = (70, 60, 55, 75, 95, 90, 80, 80, 85, 100)\n",
    "l = 0\n",
    "for i in range(len(Kor)):\n",
    "    l += Kor[i]\n",
    "    \n",
    "print(l/len(Kor))"
   ]
  },
  {
   "cell_type": "code",
   "execution_count": 87,
   "id": "ab190905-813d-43c1-b7b7-7a11b518367e",
   "metadata": {},
   "outputs": [
    {
     "name": "stdout",
     "output_type": "stream",
     "text": [
      "79.0\n"
     ]
    }
   ],
   "source": [
    "Kor = (70, 60, 55, 75, 95, 90, 80, 80, 85, 100)\n",
    "\n",
    "k = 0\n",
    "b = 0\n",
    "\n",
    "while k < len(Kor):\n",
    "    b += Kor[k]\n",
    "    k += 1\n",
    "    \n",
    "print(b/len(Kor))"
   ]
  },
  {
   "cell_type": "code",
   "execution_count": 93,
   "id": "613efb81-f93c-4df2-a7f7-febfc0e2a9ef",
   "metadata": {},
   "outputs": [
    {
     "name": "stdout",
     "output_type": "stream",
     "text": [
      "결과는 34996011596528190789960035633881941845650710894291398982812329702559247987190014771576210832368861183 입니다.\n"
     ]
    }
   ],
   "source": [
    "v = 0\n",
    "for i in range(1000):\n",
    "    if i % 3 == 0 :\n",
    "        i += v+1\n",
    "print(f\"결과는 {v} 입니다.\")"
   ]
  },
  {
   "cell_type": "code",
   "execution_count": null,
   "id": "c31f401e-46ef-450e-ae16-67a7c6f9934f",
   "metadata": {},
   "outputs": [],
   "source": []
  }
 ],
 "metadata": {
  "kernelspec": {
   "display_name": "Python 3 (ipykernel)",
   "language": "python",
   "name": "python3"
  },
  "language_info": {
   "codemirror_mode": {
    "name": "ipython",
    "version": 3
   },
   "file_extension": ".py",
   "mimetype": "text/x-python",
   "name": "python",
   "nbconvert_exporter": "python",
   "pygments_lexer": "ipython3",
   "version": "3.9.13"
  }
 },
 "nbformat": 4,
 "nbformat_minor": 5
}
