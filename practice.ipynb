{
 "cells": [
  {
   "cell_type": "code",
   "execution_count": 33,
   "id": "1a926a1e-f00f-4e55-9c60-3b61f51e170c",
   "metadata": {},
   "outputs": [
    {
     "name": "stdin",
     "output_type": "stream",
     "text": [
      "순환할 숫자를 입력하세요: 15\n"
     ]
    },
    {
     "name": "stdout",
     "output_type": "stream",
     "text": [
      "1 2 3 4 5 6 7 8 9 10 11 12 13 14 15 \n",
      "2 3 4 5 6 7 8 9 10 11 12 13 14 15 1 \n",
      "3 4 5 6 7 8 9 10 11 12 13 14 15 1 2 \n",
      "4 5 6 7 8 9 10 11 12 13 14 15 1 2 3 \n",
      "5 6 7 8 9 10 11 12 13 14 15 1 2 3 4 \n",
      "6 7 8 9 10 11 12 13 14 15 1 2 3 4 5 \n",
      "7 8 9 10 11 12 13 14 15 1 2 3 4 5 6 \n",
      "8 9 10 11 12 13 14 15 1 2 3 4 5 6 7 \n",
      "9 10 11 12 13 14 15 1 2 3 4 5 6 7 8 \n",
      "10 11 12 13 14 15 1 2 3 4 5 6 7 8 9 \n",
      "11 12 13 14 15 1 2 3 4 5 6 7 8 9 10 \n",
      "12 13 14 15 1 2 3 4 5 6 7 8 9 10 11 \n",
      "13 14 15 1 2 3 4 5 6 7 8 9 10 11 12 \n",
      "14 15 1 2 3 4 5 6 7 8 9 10 11 12 13 \n",
      "15 1 2 3 4 5 6 7 8 9 10 11 12 13 14 \n"
     ]
    }
   ],
   "source": [
    "num = int(input(\"순환할 숫자를 입력하세요:\"))\n",
    "for _ in range(num):\n",
    "    for __ in range(num):\n",
    "        print((_+__)%num +1 ,end =\" \")\n",
    "    print()"
   ]
  },
  {
   "cell_type": "code",
   "execution_count": 38,
   "id": "f529346f-6474-484a-99d6-4b03e8c1d354",
   "metadata": {},
   "outputs": [
    {
     "name": "stdin",
     "output_type": "stream",
     "text": [
      "순활할 숫자를 입력하세요. 6\n"
     ]
    },
    {
     "name": "stdout",
     "output_type": "stream",
     "text": [
      "1 2 3 4 5 6 \n",
      "2 3 4 5 6 1 \n",
      "3 4 5 6 1 2 \n",
      "4 5 6 1 2 3 \n",
      "5 6 1 2 3 4 \n",
      "6 1 2 3 4 5 \n"
     ]
    }
   ],
   "source": [
    "num = int(input(\"순활할 숫자를 입력하세요.\"))\n",
    "for i in range(num):\n",
    "    for j in range(1, num + 1):\n",
    "        if j + i >= 1:\n",
    "            result = j + i \n",
    "            if result > num:\n",
    "                result = result - num\n",
    "            print(result, end = \" \")\n",
    "    print()"
   ]
  },
  {
   "cell_type": "code",
   "execution_count": 39,
   "id": "71fc0245-a7bd-4c8b-ad26-5d8e88de8a12",
   "metadata": {},
   "outputs": [
    {
     "name": "stdin",
     "output_type": "stream",
     "text": [
      "순환할 숫자를 입력하세요. 7\n"
     ]
    }
   ],
   "source": [
    "num = int(input(\"순환할 숫자를 입력하세요.\"))\n",
    "\n",
    "# i => 1 ~ 입력한 숫자까지 \n",
    "for i in range(1, num + 1):\n",
    "    for j in range(i, num + i):\n",
    "        if j %"
   ]
  },
  {
   "cell_type": "code",
   "execution_count": 42,
   "id": "0cb99f0b-8fd8-4645-bfc2-fd3f0ad62dfe",
   "metadata": {},
   "outputs": [
    {
     "name": "stdout",
     "output_type": "stream",
     "text": [
      "[999, 1, 2, 3, 4, 5, 6, 7, 8, 9]\n",
      "[0, 1, 2, 3, 4, 5, 6, 7, 8, 9]\n"
     ]
    }
   ],
   "source": [
    "list_g = list(range(10))\n",
    "list_h = list_g.copy()\n",
    "list_g[0] = 999\n",
    "\n",
    "print(list_g)\n",
    "print(list_h)\n"
   ]
  },
  {
   "cell_type": "code",
   "execution_count": 50,
   "id": "96470ced-f02c-4499-91d2-5e3cb800c54c",
   "metadata": {},
   "outputs": [],
   "source": [
    "list_i = [[0]] * 3 # 주소를 복사. 그래서 바뀌면 주소도 바뀜. "
   ]
  },
  {
   "cell_type": "code",
   "execution_count": 44,
   "id": "bc09752a-deeb-4614-85cd-5ff75ad158ce",
   "metadata": {},
   "outputs": [
    {
     "name": "stdout",
     "output_type": "stream",
     "text": [
      "[[0], [0], [0]]\n"
     ]
    }
   ],
   "source": [
    "print(list_i)"
   ]
  },
  {
   "cell_type": "code",
   "execution_count": 48,
   "id": "2ebc1490-0105-4e66-8b42-41cd7872b69c",
   "metadata": {},
   "outputs": [],
   "source": [
    "list_i[0][0] = 999 # 인덱스에 첫번쨰를 써준것 뿐. \n",
    "# 리스트 안에 리스트가 있구나. \n",
    "# 단계단계별로 시퀀스가 있는 것. "
   ]
  },
  {
   "cell_type": "code",
   "execution_count": 49,
   "id": "ccbb40ef-3514-4609-aef8-b86c2da74db8",
   "metadata": {},
   "outputs": [
    {
     "name": "stdout",
     "output_type": "stream",
     "text": [
      "[[999], [999], [999]]\n"
     ]
    }
   ],
   "source": [
    "print(list_i)"
   ]
  },
  {
   "cell_type": "code",
   "execution_count": 51,
   "id": "fe97bd6f-b069-452f-a9ff-ba626e07a73f",
   "metadata": {},
   "outputs": [
    {
     "name": "stdout",
     "output_type": "stream",
     "text": [
      "2259535268224\n"
     ]
    }
   ],
   "source": [
    "print(id(list_i))"
   ]
  },
  {
   "cell_type": "code",
   "execution_count": 52,
   "id": "76e6fa51-1a82-4580-a65d-7cf8d1b3b059",
   "metadata": {},
   "outputs": [],
   "source": [
    "# list[0] --> list 객체\n",
    "# list_j[1] --> list 객체\n",
    "list_j = [[1, 2], [3, 4]]\n",
    "list_k = list_j[:]"
   ]
  },
  {
   "cell_type": "code",
   "execution_count": 53,
   "id": "fe76de13-e632-441d-bba7-3d4e2a5b7ea2",
   "metadata": {},
   "outputs": [
    {
     "name": "stdout",
     "output_type": "stream",
     "text": [
      "False\n"
     ]
    }
   ],
   "source": [
    "print(list_k is list_j)"
   ]
  },
  {
   "cell_type": "code",
   "execution_count": 54,
   "id": "0dd287b1-a6a4-4786-887c-bbfc5b7008cf",
   "metadata": {},
   "outputs": [
    {
     "name": "stdout",
     "output_type": "stream",
     "text": [
      "True\n"
     ]
    }
   ],
   "source": [
    "print(list_k[0] is list_j[0])"
   ]
  },
  {
   "cell_type": "code",
   "execution_count": 56,
   "id": "26e37ff0-7732-4934-b569-d5e7cc085c51",
   "metadata": {},
   "outputs": [
    {
     "name": "stdout",
     "output_type": "stream",
     "text": [
      "2259535266176\n",
      "2259535248448\n"
     ]
    }
   ],
   "source": [
    "print(id(list_k))\n",
    "print(id(list_j))"
   ]
  },
  {
   "cell_type": "code",
   "execution_count": 58,
   "id": "aee5c7bd-38c9-450f-bafc-5056c2f88a73",
   "metadata": {},
   "outputs": [],
   "source": [
    "list_j[0][0] = 11"
   ]
  },
  {
   "cell_type": "code",
   "execution_count": 59,
   "id": "b59035c3-cb36-4e23-8698-3f5a8310ba0e",
   "metadata": {},
   "outputs": [
    {
     "name": "stdout",
     "output_type": "stream",
     "text": [
      "[[11, 2], [3, 4]]\n"
     ]
    }
   ],
   "source": [
    "print(list_j)"
   ]
  },
  {
   "cell_type": "code",
   "execution_count": 61,
   "id": "049eb570-9f53-4b43-9f13-b450b49a6c4f",
   "metadata": {},
   "outputs": [
    {
     "name": "stdout",
     "output_type": "stream",
     "text": [
      "False\n"
     ]
    }
   ],
   "source": [
    "list_l = [[5,6], [7,8]]\n",
    "list_m = list_l.copy()\n",
    "print(list_l is list_m)"
   ]
  },
  {
   "cell_type": "code",
   "execution_count": 68,
   "id": "b8bcfc63-26fa-4c35-a158-07f55dd3caf1",
   "metadata": {},
   "outputs": [
    {
     "name": "stdout",
     "output_type": "stream",
     "text": [
      "False\n"
     ]
    }
   ],
   "source": [
    "import copy\n",
    "list_n = [[9,10],[11,12]]\n",
    "# deepcopy는 반환값으로 완전히 새로운 객체를 반환해요.\n",
    "list_o = copy.deepcopy(list_n)\n",
    "print(list_n[0] is list_o[0])"
   ]
  },
  {
   "cell_type": "code",
   "execution_count": 66,
   "id": "e5c7c085-c638-4c8f-8aa4-c994c0e33291",
   "metadata": {},
   "outputs": [
    {
     "name": "stdout",
     "output_type": "stream",
     "text": [
      "2259569664192\n",
      "2259535181120\n"
     ]
    }
   ],
   "source": [
    "print(id(list_n))\n",
    "print(id(list_o))"
   ]
  },
  {
   "cell_type": "code",
   "execution_count": 70,
   "id": "a3cab280-dc0c-4b3f-bf42-483fbeca843c",
   "metadata": {},
   "outputs": [
    {
     "name": "stdout",
     "output_type": "stream",
     "text": [
      "11\n",
      "11\n"
     ]
    }
   ],
   "source": [
    "print(list_n[1][0])\n",
    "print([11,12][0])"
   ]
  },
  {
   "cell_type": "code",
   "execution_count": 72,
   "id": "1a5525cc-37c7-46af-bef4-72a21374271c",
   "metadata": {},
   "outputs": [],
   "source": [
    "list_n[1][0] = 22"
   ]
  },
  {
   "cell_type": "code",
   "execution_count": 73,
   "id": "da81d060-4a18-42da-8a41-e7e6670da5f6",
   "metadata": {},
   "outputs": [
    {
     "name": "stdout",
     "output_type": "stream",
     "text": [
      "[[9, 10], [22, 12]]\n",
      "[[9, 10], [11, 12]]\n"
     ]
    }
   ],
   "source": [
    "print(list_n)\n",
    "print(list_o)"
   ]
  },
  {
   "cell_type": "code",
   "execution_count": 74,
   "id": "e2d44def-e0bc-49c3-a5cc-48f401dc053d",
   "metadata": {},
   "outputs": [
    {
     "name": "stdout",
     "output_type": "stream",
     "text": [
      "[0, 3, 6, 9]\n"
     ]
    }
   ],
   "source": [
    "list_p = [i for i in range(10) if i % 3 == 0 ]\n",
    "print(list_p)"
   ]
  },
  {
   "cell_type": "code",
   "execution_count": 75,
   "id": "7af17102-92ae-47b8-8b01-622869a21b7b",
   "metadata": {},
   "outputs": [
    {
     "name": "stdout",
     "output_type": "stream",
     "text": [
      "1\n",
      "2\n",
      "3\n",
      "4\n",
      "5\n",
      "3\n",
      "4\n"
     ]
    }
   ],
   "source": [
    "easy_list = [[1,2,3,4,5],[3,4]]\n",
    "for item in easy_list:\n",
    "    for i in item:\n",
    "        print(i)"
   ]
  },
  {
   "cell_type": "code",
   "execution_count": 76,
   "id": "7973c9fb-cca3-4798-a646-1635ee8e63a5",
   "metadata": {},
   "outputs": [
    {
     "name": "stdout",
     "output_type": "stream",
     "text": [
      "1\n",
      "2\n",
      "3\n",
      "4\n",
      "5\n",
      "3\n",
      "4\n"
     ]
    }
   ],
   "source": [
    "easy_list = [[1,2,3,4,5],[3,4]]\n",
    "i = 0 # easy_list 인덱스용\n",
    "\n",
    "while i < len(easy_list):\n",
    "    j =  0 #easy_list[0], easy_list[1] 인덱스용\n",
    "    while j < len(easy_list[i]):\n",
    "        print(easy_list[i][j])\n",
    "        j += 1\n",
    "    i += 1"
   ]
  },
  {
   "cell_type": "code",
   "execution_count": 78,
   "id": "cfe5ccc4-8afd-4337-b85a-8fc349f69fe7",
   "metadata": {},
   "outputs": [],
   "source": [
    "# 메서드 는 클래스라는 건데 객체에 .을 찍어서 쓰는 것. "
   ]
  },
  {
   "cell_type": "code",
   "execution_count": 84,
   "id": "f70f9fef-942c-4d29-aa9e-5add17838dbe",
   "metadata": {},
   "outputs": [
    {
     "ename": "SyntaxError",
     "evalue": "invalid syntax (3434672631.py, line 1)",
     "output_type": "error",
     "traceback": [
      "\u001b[1;36m  File \u001b[1;32m\"C:\\Users\\Playdata\\AppData\\Local\\Temp\\ipykernel_6068\\3434672631.py\"\u001b[1;36m, line \u001b[1;32m1\u001b[0m\n\u001b[1;33m    generator_variable = (_ for _in range(1000))\u001b[0m\n\u001b[1;37m                                    ^\u001b[0m\n\u001b[1;31mSyntaxError\u001b[0m\u001b[1;31m:\u001b[0m invalid syntax\n"
     ]
    }
   ],
   "source": [
    "generator_variable = (_ for _in range(1000))\n",
    "\n",
    "print(generator_variable)\n",
    "print(type(generateor_variable))\n",
    "hasattr"
   ]
  },
  {
   "cell_type": "code",
   "execution_count": 94,
   "id": "22a9fa27-f87d-483e-96a8-7004d712d0e6",
   "metadata": {},
   "outputs": [
    {
     "name": "stdout",
     "output_type": "stream",
     "text": [
      "['alpha', 'bravo', 'delta', 'hotel', 'india']\n"
     ]
    }
   ],
   "source": [
    "a =['alpha', 'bravo', 'charlie', 'delta', \n",
    "    'echo','foxtrot','golf','hotel','india']\n",
    "b = [i for i in a if len(i) == 5 ]\n",
    "# [i for i in range(10) if i % 3 == 0 ]\n",
    "\n",
    "\n",
    "print(b)"
   ]
  },
  {
   "cell_type": "code",
   "execution_count": 103,
   "id": "2abb8513-5724-486e-9897-631546abff51",
   "metadata": {},
   "outputs": [
    {
     "name": "stdin",
     "output_type": "stream",
     "text": [
      "정수 두개 입력하세요: 2 5\n"
     ]
    },
    {
     "ename": "AttributeError",
     "evalue": "'map' object has no attribute 'split'",
     "output_type": "error",
     "traceback": [
      "\u001b[1;31m---------------------------------------------------------------------------\u001b[0m",
      "\u001b[1;31mAttributeError\u001b[0m                            Traceback (most recent call last)",
      "\u001b[1;32m~\\AppData\\Local\\Temp\\ipykernel_6068\\4279205149.py\u001b[0m in \u001b[0;36m<module>\u001b[1;34m\u001b[0m\n\u001b[0;32m      2\u001b[0m \u001b[1;31m# 지수 계산자는 **으로, 예를 들어 (2**7) 2의 7승. 이렇게.\u001b[0m\u001b[1;33m\u001b[0m\u001b[1;33m\u001b[0m\u001b[0m\n\u001b[0;32m      3\u001b[0m \u001b[1;33m\u001b[0m\u001b[0m\n\u001b[1;32m----> 4\u001b[1;33m \u001b[0mint_num1\u001b[0m\u001b[1;33m,\u001b[0m \u001b[0mint_num2\u001b[0m \u001b[1;33m=\u001b[0m \u001b[0mmap\u001b[0m\u001b[1;33m(\u001b[0m\u001b[0mint\u001b[0m\u001b[1;33m,\u001b[0m\u001b[0minput\u001b[0m\u001b[1;33m(\u001b[0m\u001b[1;34m\"정수 두개 입력하세요:\"\u001b[0m\u001b[1;33m)\u001b[0m\u001b[1;33m)\u001b[0m\u001b[1;33m.\u001b[0m \u001b[0msplit\u001b[0m\u001b[1;33m(\u001b[0m\u001b[1;34m\" \"\u001b[0m\u001b[1;33m)\u001b[0m\u001b[1;33m\u001b[0m\u001b[1;33m\u001b[0m\u001b[0m\n\u001b[0m\u001b[0;32m      5\u001b[0m \u001b[1;33m\u001b[0m\u001b[0m\n",
      "\u001b[1;31mAttributeError\u001b[0m: 'map' object has no attribute 'split'"
     ]
    }
   ],
   "source": [
    "# 공백은 .split() 로 할 수 있다.\n",
    "# 지수 계산자는 **으로, 예를 들어 (2**7) 2의 7승. 이렇게.\n",
    "\n",
    "int_num1, int_num2 = map(int,input(\"정수 두개 입력하세요:\")). split(\" \")\n",
    "\n"
   ]
  },
  {
   "cell_type": "code",
   "execution_count": 18,
   "id": "afc659c7-718a-4f3d-97fe-d49049f31753",
   "metadata": {},
   "outputs": [
    {
     "name": "stdin",
     "output_type": "stream",
     "text": [
      "정수 두 개 입력하세요: 8 7\n"
     ]
    },
    {
     "name": "stdout",
     "output_type": "stream",
     "text": [
      "[]\n"
     ]
    }
   ],
   "source": [
    "# 공백은 .split() 로 할 수 있다.\n",
    "# 지수 계산자는 **으로, 예를 들어 (2**7) 2의 7승. 이렇게.\n",
    "\n",
    "int_num1, int_num2 = list(map(int, input(\"정수 두 개 입력하세요:\").split(\" \")))\n",
    "\n",
    "s = [i**2 for i in range(int_num1,int_num2)] \n",
    "\n",
    "print(s)\n",
    "\n",
    "\n",
    " "
   ]
  },
  {
   "cell_type": "code",
   "execution_count": 27,
   "id": "f264bf0c-761c-4545-bcaa-a3e28721a19c",
   "metadata": {},
   "outputs": [
    {
     "name": "stdin",
     "output_type": "stream",
     "text": [
      "자연수 하나 입력해주세요: 40\n"
     ]
    },
    {
     "name": "stdout",
     "output_type": "stream",
     "text": [
      "0\n"
     ]
    }
   ],
   "source": [
    "int_input = int(input(\"자연수 하나 입력해주세요:\"))\n",
    "\n",
    "result = int_input - 50 \n",
    "\n",
    "if result < 0 :\n",
    "    result = 0 \n",
    "    \n",
    "print(result)"
   ]
  },
  {
   "cell_type": "code",
   "execution_count": 29,
   "id": "f1b2f8fe-bc77-40fd-8930-6b993035ffba",
   "metadata": {},
   "outputs": [
    {
     "name": "stdout",
     "output_type": "stream",
     "text": [
      "- 1 + 4 - 9 + 16 - 25 + 36 - 49 + 64 - 81 + 100 \n",
      "- 121 + 144 - 169 + 196 - 225 + 256 - 289 + 324 - 361 + 400 \n",
      "- 441 + 484 - 529 + 576 - 625 + 676 - 729 + 784 - 841 + 900 \n",
      "- 961 + 1024 - 1089 + 1156 - 1225 + 1296 - 1369 + 1444 - 1521 + 1600 \n",
      "- 1681 + 1764 - 1849 + 1936 - 2025 + 2116 - 2209 + 2304 - 2401 + 2500 \n",
      "- 2601 + 2704 - 2809 + 2916 - 3025 + 3136 - 3249 + 3364 - 3481 + 3600 \n",
      "- 3721 + 3844 - 3969 + 4096 - 4225 + 4356 - 4489 + 4624 - 4761 + 4900 \n",
      "- 5041 + 5184 - 5329 + 5476 - 5625 + 5776 - 5929 + 6084 - 6241 + 6400 \n",
      "- 6561 + 6724 - 6889 + 7056 - 7225 + 7396 - 7569 + 7744 - 7921 + 8100 \n",
      "- 8281 + 8464 - 8649 + 8836 - 9025 + 9216 - 9409 + 9604 - 9801 + 10000 \n",
      "= 5050 입니다\n"
     ]
    }
   ],
   "source": [
    "# 1. 1~100 까지 만들기 \n",
    "# 2. 하나씩 늘리기 \n",
    "\n",
    "i = 1 \n",
    "line = 0\n",
    "total = 0 \n",
    "while i <= 100 : \n",
    "    if  i % 2 == 0: #짝수\n",
    "        total += i * i\n",
    "        print(\"+\", i * i, end = \" \")\n",
    "    else: #홀수 \n",
    "        total -= i * i\n",
    "        print(\"-\", i * i, end = \" \")\n",
    "    i += 1 \n",
    "    line += 1\n",
    "    if line == 10 : \n",
    "        line = 0\n",
    "        print()\n",
    "print(\"=\", total, \"입니다\")"
   ]
  },
  {
   "cell_type": "code",
   "execution_count": null,
   "id": "a46e61c6-d2ef-4f4d-b7e5-607382f78ece",
   "metadata": {},
   "outputs": [],
   "source": []
  }
 ],
 "metadata": {
  "kernelspec": {
   "display_name": "Python 3 (ipykernel)",
   "language": "python",
   "name": "python3"
  },
  "language_info": {
   "codemirror_mode": {
    "name": "ipython",
    "version": 3
   },
   "file_extension": ".py",
   "mimetype": "text/x-python",
   "name": "python",
   "nbconvert_exporter": "python",
   "pygments_lexer": "ipython3",
   "version": "3.9.13"
  }
 },
 "nbformat": 4,
 "nbformat_minor": 5
}
